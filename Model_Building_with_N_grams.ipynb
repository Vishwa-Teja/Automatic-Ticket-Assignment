{
  "nbformat": 4,
  "nbformat_minor": 0,
  "metadata": {
    "colab": {
      "name": "Model Building with N-grams.ipynb",
      "provenance": [],
      "collapsed_sections": []
    },
    "kernelspec": {
      "display_name": "Python 3",
      "name": "python3"
    },
    "language_info": {
      "name": "python"
    }
  },
  "cells": [
    {
      "cell_type": "code",
      "metadata": {
        "id": "iJ4FgFaPjDKb"
      },
      "source": [
        ""
      ],
      "execution_count": null,
      "outputs": []
    },
    {
      "cell_type": "code",
      "metadata": {
        "colab": {
          "base_uri": "https://localhost:8080/"
        },
        "id": "Vv8z4zMBXIY2",
        "outputId": "1aa52133-099a-4467-bf2b-9cea3e28c6d4"
      },
      "source": [
        "from google.colab import drive\n",
        "drive.mount('/content/drive')"
      ],
      "execution_count": null,
      "outputs": [
        {
          "output_type": "stream",
          "text": [
            "Mounted at /content/drive\n"
          ],
          "name": "stdout"
        }
      ]
    },
    {
      "cell_type": "code",
      "metadata": {
        "id": "oolG6g2MXWvu"
      },
      "source": [
        "import pandas as pd\n",
        "import numpy as np\n",
        "import matplotlib.pyplot as plt\n",
        "%matplotlib inline\n",
        "import seaborn as sns\n",
        "import re\n",
        "import nltk"
      ],
      "execution_count": null,
      "outputs": []
    },
    {
      "cell_type": "code",
      "metadata": {
        "colab": {
          "base_uri": "https://localhost:8080/",
          "height": 313
        },
        "id": "jGTDJuijX2rm",
        "outputId": "5a43b738-7423-4416-92c6-ce611408f8ce"
      },
      "source": [
        "df = pd.read_csv('/content/drive/MyDrive/k/NLP/capstone/Cleaned_data.csv',)\n",
        "df.head()"
      ],
      "execution_count": null,
      "outputs": [
        {
          "output_type": "execute_result",
          "data": {
            "text/html": [
              "<div>\n",
              "<style scoped>\n",
              "    .dataframe tbody tr th:only-of-type {\n",
              "        vertical-align: middle;\n",
              "    }\n",
              "\n",
              "    .dataframe tbody tr th {\n",
              "        vertical-align: top;\n",
              "    }\n",
              "\n",
              "    .dataframe thead th {\n",
              "        text-align: right;\n",
              "    }\n",
              "</style>\n",
              "<table border=\"1\" class=\"dataframe\">\n",
              "  <thead>\n",
              "    <tr style=\"text-align: right;\">\n",
              "      <th></th>\n",
              "      <th>Unnamed: 0</th>\n",
              "      <th>Unnamed: 0.1</th>\n",
              "      <th>Short description</th>\n",
              "      <th>Description</th>\n",
              "      <th>Caller</th>\n",
              "      <th>Assignment group</th>\n",
              "      <th>SC + DC + Caller</th>\n",
              "      <th>Assignment RE-group</th>\n",
              "      <th>Cleaned</th>\n",
              "      <th>Length</th>\n",
              "      <th>Language</th>\n",
              "    </tr>\n",
              "  </thead>\n",
              "  <tbody>\n",
              "    <tr>\n",
              "      <th>0</th>\n",
              "      <td>0</td>\n",
              "      <td>0</td>\n",
              "      <td>login issue</td>\n",
              "      <td>-verified user details.(employee# &amp; manager na...</td>\n",
              "      <td>spxjnwir pjlcoqds</td>\n",
              "      <td>GRP_0</td>\n",
              "      <td>login issuespxjnwir pjlcoqds-verified user det...</td>\n",
              "      <td>GRP_0</td>\n",
              "      <td>login issue verify user detail employee manage...</td>\n",
              "      <td>36</td>\n",
              "      <td>en</td>\n",
              "    </tr>\n",
              "    <tr>\n",
              "      <th>1</th>\n",
              "      <td>1</td>\n",
              "      <td>1</td>\n",
              "      <td>outlook</td>\n",
              "      <td>\\r\\n\\r\\nreceived from: hmjdrvpb.komuaywn@gmail...</td>\n",
              "      <td>hmjdrvpb komuaywn</td>\n",
              "      <td>GRP_0</td>\n",
              "      <td>outlookhmjdrvpb komuaywn\\r\\n\\r\\nreceived from:...</td>\n",
              "      <td>GRP_0</td>\n",
              "      <td>outlook hello team meeting skype meeting appea...</td>\n",
              "      <td>24</td>\n",
              "      <td>en</td>\n",
              "    </tr>\n",
              "    <tr>\n",
              "      <th>2</th>\n",
              "      <td>2</td>\n",
              "      <td>2</td>\n",
              "      <td>cant log in to vpn</td>\n",
              "      <td>\\r\\n\\r\\nreceived from: eylqgodm.ybqkwiam@gmail...</td>\n",
              "      <td>eylqgodm ybqkwiam</td>\n",
              "      <td>GRP_0</td>\n",
              "      <td>cant log in to vpneylqgodm ybqkwiam\\r\\n\\r\\nrec...</td>\n",
              "      <td>GRP_0</td>\n",
              "      <td>log vpn log vpn good</td>\n",
              "      <td>12</td>\n",
              "      <td>en</td>\n",
              "    </tr>\n",
              "    <tr>\n",
              "      <th>3</th>\n",
              "      <td>3</td>\n",
              "      <td>3</td>\n",
              "      <td>unable to access hr_tool page</td>\n",
              "      <td>unable to access hr_tool page</td>\n",
              "      <td>xbkucsvz gcpydteq</td>\n",
              "      <td>GRP_0</td>\n",
              "      <td>xbkucsvz gcpydtequnable to access hr_tool page</td>\n",
              "      <td>GRP_0</td>\n",
              "      <td>unable access hr tool page</td>\n",
              "      <td>6</td>\n",
              "      <td>en</td>\n",
              "    </tr>\n",
              "    <tr>\n",
              "      <th>4</th>\n",
              "      <td>4</td>\n",
              "      <td>4</td>\n",
              "      <td>skype error</td>\n",
              "      <td>skype error</td>\n",
              "      <td>owlgqjme qhcozdfx</td>\n",
              "      <td>GRP_0</td>\n",
              "      <td>owlgqjme qhcozdfxskype error</td>\n",
              "      <td>GRP_0</td>\n",
              "      <td>skype error</td>\n",
              "      <td>2</td>\n",
              "      <td>en</td>\n",
              "    </tr>\n",
              "  </tbody>\n",
              "</table>\n",
              "</div>"
            ],
            "text/plain": [
              "   Unnamed: 0  Unnamed: 0.1  ... Length Language\n",
              "0           0             0  ...     36       en\n",
              "1           1             1  ...     24       en\n",
              "2           2             2  ...     12       en\n",
              "3           3             3  ...      6       en\n",
              "4           4             4  ...      2       en\n",
              "\n",
              "[5 rows x 11 columns]"
            ]
          },
          "metadata": {
            "tags": []
          },
          "execution_count": 210
        }
      ]
    },
    {
      "cell_type": "code",
      "metadata": {
        "colab": {
          "base_uri": "https://localhost:8080/"
        },
        "id": "81xWadj7TZzX",
        "outputId": "8805306c-3955-4c19-cba4-7a05bd6a8d59"
      },
      "source": [
        "df.columns"
      ],
      "execution_count": null,
      "outputs": [
        {
          "output_type": "execute_result",
          "data": {
            "text/plain": [
              "Index(['Unnamed: 0', 'Unnamed: 0.1', 'Short description', 'Description',\n",
              "       'Caller', 'Assignment group', 'SC + DC + Caller', 'Assignment RE-group',\n",
              "       'Cleaned', 'Length', 'Language'],\n",
              "      dtype='object')"
            ]
          },
          "metadata": {
            "tags": []
          },
          "execution_count": 211
        }
      ]
    },
    {
      "cell_type": "code",
      "metadata": {
        "id": "W5iBgqlfYZtA"
      },
      "source": [
        "df = df.drop(['Unnamed: 0','Unnamed: 0.1','Short description','Description','Caller','SC + DC + Caller'],axis=1)"
      ],
      "execution_count": null,
      "outputs": []
    },
    {
      "cell_type": "code",
      "metadata": {
        "colab": {
          "base_uri": "https://localhost:8080/",
          "height": 106
        },
        "id": "IWvMhzY8ZfQP",
        "outputId": "c9f3dd12-7bb3-4349-d85c-508729b3560b"
      },
      "source": [
        "df.head(2)"
      ],
      "execution_count": null,
      "outputs": [
        {
          "output_type": "execute_result",
          "data": {
            "text/html": [
              "<div>\n",
              "<style scoped>\n",
              "    .dataframe tbody tr th:only-of-type {\n",
              "        vertical-align: middle;\n",
              "    }\n",
              "\n",
              "    .dataframe tbody tr th {\n",
              "        vertical-align: top;\n",
              "    }\n",
              "\n",
              "    .dataframe thead th {\n",
              "        text-align: right;\n",
              "    }\n",
              "</style>\n",
              "<table border=\"1\" class=\"dataframe\">\n",
              "  <thead>\n",
              "    <tr style=\"text-align: right;\">\n",
              "      <th></th>\n",
              "      <th>Assignment group</th>\n",
              "      <th>Assignment RE-group</th>\n",
              "      <th>Cleaned</th>\n",
              "      <th>Length</th>\n",
              "      <th>Language</th>\n",
              "    </tr>\n",
              "  </thead>\n",
              "  <tbody>\n",
              "    <tr>\n",
              "      <th>0</th>\n",
              "      <td>GRP_0</td>\n",
              "      <td>GRP_0</td>\n",
              "      <td>login issue verify user detail employee manage...</td>\n",
              "      <td>36</td>\n",
              "      <td>en</td>\n",
              "    </tr>\n",
              "    <tr>\n",
              "      <th>1</th>\n",
              "      <td>GRP_0</td>\n",
              "      <td>GRP_0</td>\n",
              "      <td>outlook hello team meeting skype meeting appea...</td>\n",
              "      <td>24</td>\n",
              "      <td>en</td>\n",
              "    </tr>\n",
              "  </tbody>\n",
              "</table>\n",
              "</div>"
            ],
            "text/plain": [
              "  Assignment group Assignment RE-group  ... Length  Language\n",
              "0            GRP_0               GRP_0  ...     36        en\n",
              "1            GRP_0               GRP_0  ...     24        en\n",
              "\n",
              "[2 rows x 5 columns]"
            ]
          },
          "metadata": {
            "tags": []
          },
          "execution_count": 213
        }
      ]
    },
    {
      "cell_type": "code",
      "metadata": {
        "colab": {
          "base_uri": "https://localhost:8080/"
        },
        "id": "A4EuatblPtbn",
        "outputId": "428c273a-ac7d-44b1-f7f9-c2160b07c30f"
      },
      "source": [
        "# Selecting the Groups having more than 100 Indiviual records\n",
        "Counts = pd.DataFrame(df['Assignment group'].value_counts())\n",
        "Others = []\n",
        "for Group in df['Assignment group'].unique():\n",
        "    if Counts.loc[Group][0] < 200:\n",
        "        Others.append(Group)\n",
        "print('{0} Groups in dataset have less than 200 samples'.format(len(Others)))\n",
        "\n",
        "df['Assignment RE-group'] =df['Assignment group'].apply(lambda x: 'Others' if x in Others else x)"
      ],
      "execution_count": null,
      "outputs": [
        {
          "output_type": "stream",
          "text": [
            "66 Groups in dataset have less than 200 samples\n"
          ],
          "name": "stdout"
        }
      ]
    },
    {
      "cell_type": "code",
      "metadata": {
        "colab": {
          "base_uri": "https://localhost:8080/",
          "height": 322
        },
        "id": "V_BHSXB4Qy_6",
        "outputId": "77581bde-9549-4f7a-aca2-80ae4e93de05"
      },
      "source": [
        "# Visualising the Distribution after re-classifing the groups in 'Others'.\n",
        "plt.subplots(figsize=(22,5))\n",
        "descending_order = df['Assignment RE-group'].value_counts().sort_values(ascending=False).index\n",
        "ax=sns.countplot(x='Assignment RE-group', data=df, color='royalblue',order=descending_order)\n",
        "ax.set_xticklabels(ax.get_xticklabels(), rotation=45, ha=\"right\")\n",
        "plt.tight_layout()\n",
        "plt.show()"
      ],
      "execution_count": null,
      "outputs": [
        {
          "output_type": "display_data",
          "data": {
            "image/png": "[encoded data removed]",
            "text/plain": [
              "<Figure size 1584x360 with 1 Axes>"
            ]
          },
          "metadata": {
            "tags": []
          }
        }
      ]
    },
    {
      "cell_type": "code",
      "metadata": {
        "colab": {
          "base_uri": "https://localhost:8080/",
          "height": 106
        },
        "id": "P2XWFrXCVNSq",
        "outputId": "3a44a2a3-2953-42da-be0f-321437e8f266"
      },
      "source": [
        "df.head(2)"
      ],
      "execution_count": null,
      "outputs": [
        {
          "output_type": "execute_result",
          "data": {
            "text/html": [
              "<div>\n",
              "<style scoped>\n",
              "    .dataframe tbody tr th:only-of-type {\n",
              "        vertical-align: middle;\n",
              "    }\n",
              "\n",
              "    .dataframe tbody tr th {\n",
              "        vertical-align: top;\n",
              "    }\n",
              "\n",
              "    .dataframe thead th {\n",
              "        text-align: right;\n",
              "    }\n",
              "</style>\n",
              "<table border=\"1\" class=\"dataframe\">\n",
              "  <thead>\n",
              "    <tr style=\"text-align: right;\">\n",
              "      <th></th>\n",
              "      <th>Assignment group</th>\n",
              "      <th>Assignment RE-group</th>\n",
              "      <th>Cleaned</th>\n",
              "      <th>Length</th>\n",
              "      <th>Language</th>\n",
              "    </tr>\n",
              "  </thead>\n",
              "  <tbody>\n",
              "    <tr>\n",
              "      <th>0</th>\n",
              "      <td>GRP_0</td>\n",
              "      <td>GRP_0</td>\n",
              "      <td>login issue verify user detail employee manage...</td>\n",
              "      <td>36</td>\n",
              "      <td>en</td>\n",
              "    </tr>\n",
              "    <tr>\n",
              "      <th>1</th>\n",
              "      <td>GRP_0</td>\n",
              "      <td>GRP_0</td>\n",
              "      <td>outlook hello team meeting skype meeting appea...</td>\n",
              "      <td>24</td>\n",
              "      <td>en</td>\n",
              "    </tr>\n",
              "  </tbody>\n",
              "</table>\n",
              "</div>"
            ],
            "text/plain": [
              "  Assignment group Assignment RE-group  ... Length  Language\n",
              "0            GRP_0               GRP_0  ...     36        en\n",
              "1            GRP_0               GRP_0  ...     24        en\n",
              "\n",
              "[2 rows x 5 columns]"
            ]
          },
          "metadata": {
            "tags": []
          },
          "execution_count": 216
        }
      ]
    },
    {
      "cell_type": "code",
      "metadata": {
        "colab": {
          "base_uri": "https://localhost:8080/"
        },
        "id": "xHH3zmn3ve20",
        "outputId": "507c80df-dc08-4056-a2b1-b192f34f209b"
      },
      "source": [
        "nltk.download('punkt')"
      ],
      "execution_count": null,
      "outputs": [
        {
          "output_type": "stream",
          "text": [
            "[nltk_data] Downloading package punkt to /root/nltk_data...\n",
            "[nltk_data]   Package punkt is already up-to-date!\n"
          ],
          "name": "stdout"
        },
        {
          "output_type": "execute_result",
          "data": {
            "text/plain": [
              "True"
            ]
          },
          "metadata": {
            "tags": []
          },
          "execution_count": 217
        }
      ]
    },
    {
      "cell_type": "code",
      "metadata": {
        "id": "BYzDsw_cyAgC"
      },
      "source": [
        "df['Cleaned_tokens'] = df['Cleaned'].apply(lambda x: nltk.word_tokenize(x))"
      ],
      "execution_count": null,
      "outputs": []
    },
    {
      "cell_type": "code",
      "metadata": {
        "colab": {
          "base_uri": "https://localhost:8080/",
          "height": 106
        },
        "id": "2lsAeYCSyXX1",
        "outputId": "eab47ac6-0841-4eb0-c113-090a91707aea"
      },
      "source": [
        "df.head(2)"
      ],
      "execution_count": null,
      "outputs": [
        {
          "output_type": "execute_result",
          "data": {
            "text/html": [
              "<div>\n",
              "<style scoped>\n",
              "    .dataframe tbody tr th:only-of-type {\n",
              "        vertical-align: middle;\n",
              "    }\n",
              "\n",
              "    .dataframe tbody tr th {\n",
              "        vertical-align: top;\n",
              "    }\n",
              "\n",
              "    .dataframe thead th {\n",
              "        text-align: right;\n",
              "    }\n",
              "</style>\n",
              "<table border=\"1\" class=\"dataframe\">\n",
              "  <thead>\n",
              "    <tr style=\"text-align: right;\">\n",
              "      <th></th>\n",
              "      <th>Assignment group</th>\n",
              "      <th>Assignment RE-group</th>\n",
              "      <th>Cleaned</th>\n",
              "      <th>Length</th>\n",
              "      <th>Language</th>\n",
              "      <th>Cleaned_tokens</th>\n",
              "    </tr>\n",
              "  </thead>\n",
              "  <tbody>\n",
              "    <tr>\n",
              "      <th>0</th>\n",
              "      <td>GRP_0</td>\n",
              "      <td>GRP_0</td>\n",
              "      <td>login issue verify user detail employee manage...</td>\n",
              "      <td>36</td>\n",
              "      <td>en</td>\n",
              "      <td>[login, issue, verify, user, detail, employee,...</td>\n",
              "    </tr>\n",
              "    <tr>\n",
              "      <th>1</th>\n",
              "      <td>GRP_0</td>\n",
              "      <td>GRP_0</td>\n",
              "      <td>outlook hello team meeting skype meeting appea...</td>\n",
              "      <td>24</td>\n",
              "      <td>en</td>\n",
              "      <td>[outlook, hello, team, meeting, skype, meeting...</td>\n",
              "    </tr>\n",
              "  </tbody>\n",
              "</table>\n",
              "</div>"
            ],
            "text/plain": [
              "  Assignment group  ...                                     Cleaned_tokens\n",
              "0            GRP_0  ...  [login, issue, verify, user, detail, employee,...\n",
              "1            GRP_0  ...  [outlook, hello, team, meeting, skype, meeting...\n",
              "\n",
              "[2 rows x 6 columns]"
            ]
          },
          "metadata": {
            "tags": []
          },
          "execution_count": 219
        }
      ]
    },
    {
      "cell_type": "code",
      "metadata": {
        "id": "LOfxiKm5VNMO"
      },
      "source": [
        "from gensim.models.phrases import Phrases"
      ],
      "execution_count": null,
      "outputs": []
    },
    {
      "cell_type": "code",
      "metadata": {
        "id": "9IbPuzdivqdK"
      },
      "source": [
        "corpus = df['Cleaned_tokens'].tolist()"
      ],
      "execution_count": null,
      "outputs": []
    },
    {
      "cell_type": "code",
      "metadata": {
        "id": "_WJ8CnqdVNJK"
      },
      "source": [
        "phrase_model = Phrases(sentences=corpus,min_count=2,threshold=-0.2,max_vocab_size=20000,scoring='npmi')"
      ],
      "execution_count": null,
      "outputs": []
    },
    {
      "cell_type": "code",
      "metadata": {
        "colab": {
          "base_uri": "https://localhost:8080/"
        },
        "id": "E_zyQ7SXVNCy",
        "outputId": "40d75c83-7450-455b-a2ab-864e054b2a7d"
      },
      "source": [
        "phrase_model[df['Cleaned_tokens'][0]]"
      ],
      "execution_count": null,
      "outputs": [
        {
          "output_type": "stream",
          "text": [
            "/usr/local/lib/python3.7/dist-packages/gensim/models/phrases.py:598: UserWarning: For a faster implementation, use the gensim.models.phrases.Phraser class\n",
            "  warnings.warn(\"For a faster implementation, use the gensim.models.phrases.Phraser class\")\n"
          ],
          "name": "stderr"
        },
        {
          "output_type": "execute_result",
          "data": {
            "text/plain": [
              "['login_issue',\n",
              " 'verify_user',\n",
              " 'detail_employee',\n",
              " 'manager_name',\n",
              " 'check_user',\n",
              " 'name_ad',\n",
              " 'reset_password',\n",
              " 'advise_user',\n",
              " 'login_check',\n",
              " 'caller_confirm',\n",
              " 'able_login',\n",
              " 'issue_resolve']"
            ]
          },
          "metadata": {
            "tags": []
          },
          "execution_count": 223
        }
      ]
    },
    {
      "cell_type": "code",
      "metadata": {
        "colab": {
          "base_uri": "https://localhost:8080/"
        },
        "id": "zrmkA8mJVMwu",
        "outputId": "782f2db5-57f5-4d2f-a2c0-a4f21c2f6787"
      },
      "source": [
        "df['phrases'] = df['Cleaned_tokens'].apply(lambda x: phrase_model[x])"
      ],
      "execution_count": null,
      "outputs": [
        {
          "output_type": "stream",
          "text": [
            "/usr/local/lib/python3.7/dist-packages/gensim/models/phrases.py:598: UserWarning: For a faster implementation, use the gensim.models.phrases.Phraser class\n",
            "  warnings.warn(\"For a faster implementation, use the gensim.models.phrases.Phraser class\")\n"
          ],
          "name": "stderr"
        }
      ]
    },
    {
      "cell_type": "code",
      "metadata": {
        "colab": {
          "base_uri": "https://localhost:8080/",
          "height": 157
        },
        "id": "FBsuVQDJVMtk",
        "outputId": "66a0a260-99ff-47b0-aa0a-78234ba1c7b3"
      },
      "source": [
        "df.tail(2)"
      ],
      "execution_count": null,
      "outputs": [
        {
          "output_type": "execute_result",
          "data": {
            "text/html": [
              "<div>\n",
              "<style scoped>\n",
              "    .dataframe tbody tr th:only-of-type {\n",
              "        vertical-align: middle;\n",
              "    }\n",
              "\n",
              "    .dataframe tbody tr th {\n",
              "        vertical-align: top;\n",
              "    }\n",
              "\n",
              "    .dataframe thead th {\n",
              "        text-align: right;\n",
              "    }\n",
              "</style>\n",
              "<table border=\"1\" class=\"dataframe\">\n",
              "  <thead>\n",
              "    <tr style=\"text-align: right;\">\n",
              "      <th></th>\n",
              "      <th>Assignment group</th>\n",
              "      <th>Assignment RE-group</th>\n",
              "      <th>Cleaned</th>\n",
              "      <th>Length</th>\n",
              "      <th>Language</th>\n",
              "      <th>Cleaned_tokens</th>\n",
              "      <th>phrases</th>\n",
              "    </tr>\n",
              "  </thead>\n",
              "  <tbody>\n",
              "    <tr>\n",
              "      <th>8435</th>\n",
              "      <td>GRP_62</td>\n",
              "      <td>Others</td>\n",
              "      <td>machine unable access machine utility finish d...</td>\n",
              "      <td>20</td>\n",
              "      <td>en</td>\n",
              "      <td>[machine, unable, access, machine, utility, fi...</td>\n",
              "      <td>[machine, unable_access, machine, utility, fin...</td>\n",
              "    </tr>\n",
              "    <tr>\n",
              "      <th>8436</th>\n",
              "      <td>GRP_49</td>\n",
              "      <td>Others</td>\n",
              "      <td>several various prgramdntym fold plurality pc ...</td>\n",
              "      <td>20</td>\n",
              "      <td>de</td>\n",
              "      <td>[several, various, prgramdntym, fold, pluralit...</td>\n",
              "      <td>[several, various, prgramdntym_fold, plurality...</td>\n",
              "    </tr>\n",
              "  </tbody>\n",
              "</table>\n",
              "</div>"
            ],
            "text/plain": [
              "     Assignment group  ...                                            phrases\n",
              "8435           GRP_62  ...  [machine, unable_access, machine, utility, fin...\n",
              "8436           GRP_49  ...  [several, various, prgramdntym_fold, plurality...\n",
              "\n",
              "[2 rows x 7 columns]"
            ]
          },
          "metadata": {
            "tags": []
          },
          "execution_count": 225
        }
      ]
    },
    {
      "cell_type": "code",
      "metadata": {
        "id": "X3KuaPe5VMqy"
      },
      "source": [
        "from gensim.models import Word2Vec"
      ],
      "execution_count": null,
      "outputs": []
    },
    {
      "cell_type": "code",
      "metadata": {
        "id": "Tdmio16BVMnY"
      },
      "source": [
        "sentences = df['phrases'].tolist()"
      ],
      "execution_count": null,
      "outputs": []
    },
    {
      "cell_type": "code",
      "metadata": {
        "id": "tF3pidvbVMkm"
      },
      "source": [
        "vec_model = Word2Vec(sentences,min_count=1,size=50,sg=1,negative=10,iter=100)"
      ],
      "execution_count": null,
      "outputs": []
    },
    {
      "cell_type": "code",
      "metadata": {
        "colab": {
          "base_uri": "https://localhost:8080/"
        },
        "id": "UvrL5kfsVMbp",
        "outputId": "54db2445-67b4-4392-c145-326a784cd339"
      },
      "source": [
        "print(vec_model['outlook'])"
      ],
      "execution_count": null,
      "outputs": [
        {
          "output_type": "stream",
          "text": [
            "[-0.06557938  1.3137809  -0.08147745  0.25948685 -0.6277236   0.3044606\n",
            "  0.04053769 -0.36101955  0.02466223  0.69405454  1.3979331  -0.16846064\n",
            " -0.8171429  -0.02235341 -0.56769943  0.44449264 -0.97246295 -0.07660929\n",
            "  0.14324284 -0.59499925 -0.30560502  0.44988126 -0.3167281   0.36009607\n",
            "  0.12176763 -0.30439937  1.1364713   0.810118    0.428784   -0.21388547\n",
            "  0.80163926  0.52291846 -0.44619545 -0.17165008 -0.11869454 -0.42450887\n",
            " -0.44253516  0.14792119  0.6815057   0.17404675  0.67598367  0.0649448\n",
            " -0.27485707 -0.60135895  0.25863114  0.47501072  0.16159262 -0.3043874\n",
            " -0.14369848  0.21277744]\n"
          ],
          "name": "stdout"
        },
        {
          "output_type": "stream",
          "text": [
            "/usr/local/lib/python3.7/dist-packages/ipykernel_launcher.py:1: DeprecationWarning: Call to deprecated `__getitem__` (Method will be removed in 4.0.0, use self.wv.__getitem__() instead).\n",
            "  \"\"\"Entry point for launching an IPython kernel.\n"
          ],
          "name": "stderr"
        }
      ]
    },
    {
      "cell_type": "code",
      "metadata": {
        "id": "algSmEdQVMhn"
      },
      "source": [
        "words = list(vec_model.wv.vocab)"
      ],
      "execution_count": null,
      "outputs": []
    },
    {
      "cell_type": "code",
      "metadata": {
        "colab": {
          "base_uri": "https://localhost:8080/"
        },
        "id": "XlAWnbIgSGQ3",
        "outputId": "bfa1ed93-5fdf-4f7c-e3fb-5daa8d379bd9"
      },
      "source": [
        "words[:10]"
      ],
      "execution_count": null,
      "outputs": [
        {
          "output_type": "execute_result",
          "data": {
            "text/plain": [
              "['login_issue',\n",
              " 'verify_user',\n",
              " 'detail_employee',\n",
              " 'manager_name',\n",
              " 'check_user',\n",
              " 'name_ad',\n",
              " 'reset_password',\n",
              " 'advise_user',\n",
              " 'login_check',\n",
              " 'caller_confirm']"
            ]
          },
          "metadata": {
            "tags": []
          },
          "execution_count": 230
        }
      ]
    },
    {
      "cell_type": "code",
      "metadata": {
        "colab": {
          "base_uri": "https://localhost:8080/"
        },
        "id": "Y3Ui6K4XVMet",
        "outputId": "379681fc-4703-4fbf-ec3c-5374dd5cdfd1"
      },
      "source": [
        "print(len(words))"
      ],
      "execution_count": null,
      "outputs": [
        {
          "output_type": "stream",
          "text": [
            "14192\n"
          ],
          "name": "stdout"
        }
      ]
    },
    {
      "cell_type": "code",
      "metadata": {
        "colab": {
          "base_uri": "https://localhost:8080/",
          "height": 35
        },
        "id": "q_1SAyxQwQkG",
        "outputId": "52954035-740c-4d21-da2d-9a098511cd73"
      },
      "source": [
        "from nltk.tokenize.treebank import TreebankWordDetokenizer\n",
        "TreebankWordDetokenizer().detokenize(df['phrases'][1])"
      ],
      "execution_count": null,
      "outputs": [
        {
          "output_type": "execute_result",
          "data": {
            "application/vnd.google.colaboratory.intrinsic+json": {
              "type": "string"
            },
            "text/plain": [
              "'outlook hello_team meeting skype_meeting appear outlook_calendar advise correct kind'"
            ]
          },
          "metadata": {
            "tags": []
          },
          "execution_count": 233
        }
      ]
    },
    {
      "cell_type": "code",
      "metadata": {
        "id": "EWrRzaKFwQhZ"
      },
      "source": [
        "df['Cleaned_phrases'] = df['phrases'].apply(lambda x: TreebankWordDetokenizer().detokenize(x))"
      ],
      "execution_count": null,
      "outputs": []
    },
    {
      "cell_type": "code",
      "metadata": {
        "colab": {
          "base_uri": "https://localhost:8080/"
        },
        "id": "xgtFOfZdwQdG",
        "outputId": "1eabd36f-d701-453c-c4e5-844801768c1e"
      },
      "source": [
        "df['Cleaned_phrases'][:3]"
      ],
      "execution_count": null,
      "outputs": [
        {
          "output_type": "execute_result",
          "data": {
            "text/plain": [
              "0    login_issue verify_user detail_employee manage...\n",
              "1    outlook hello_team meeting skype_meeting appea...\n",
              "2                                 log_vpn log_vpn good\n",
              "Name: Cleaned_phrases, dtype: object"
            ]
          },
          "metadata": {
            "tags": []
          },
          "execution_count": 235
        }
      ]
    },
    {
      "cell_type": "code",
      "metadata": {
        "id": "xi5g4vbQwQYn"
      },
      "source": [
        "df['phrases_length'] =  df['Cleaned_phrases'].apply(lambda x: len(x.split()))"
      ],
      "execution_count": null,
      "outputs": []
    },
    {
      "cell_type": "code",
      "metadata": {
        "colab": {
          "base_uri": "https://localhost:8080/",
          "height": 296
        },
        "id": "leg7qq1fwQV6",
        "outputId": "cec316c0-ef71-4a79-f761-41019eaa1a49"
      },
      "source": [
        "df.tail()"
      ],
      "execution_count": null,
      "outputs": [
        {
          "output_type": "execute_result",
          "data": {
            "text/html": [
              "<div>\n",
              "<style scoped>\n",
              "    .dataframe tbody tr th:only-of-type {\n",
              "        vertical-align: middle;\n",
              "    }\n",
              "\n",
              "    .dataframe tbody tr th {\n",
              "        vertical-align: top;\n",
              "    }\n",
              "\n",
              "    .dataframe thead th {\n",
              "        text-align: right;\n",
              "    }\n",
              "</style>\n",
              "<table border=\"1\" class=\"dataframe\">\n",
              "  <thead>\n",
              "    <tr style=\"text-align: right;\">\n",
              "      <th></th>\n",
              "      <th>Assignment group</th>\n",
              "      <th>Assignment RE-group</th>\n",
              "      <th>Cleaned</th>\n",
              "      <th>Length</th>\n",
              "      <th>Language</th>\n",
              "      <th>Cleaned_tokens</th>\n",
              "      <th>phrases</th>\n",
              "      <th>Cleaned_phrases</th>\n",
              "      <th>phrases_length</th>\n",
              "    </tr>\n",
              "  </thead>\n",
              "  <tbody>\n",
              "    <tr>\n",
              "      <th>8432</th>\n",
              "      <td>GRP_29</td>\n",
              "      <td>Others</td>\n",
              "      <td>email come mail good afternoon receiving email...</td>\n",
              "      <td>21</td>\n",
              "      <td>en</td>\n",
              "      <td>[email, come, mail, good, afternoon, receiving...</td>\n",
              "      <td>[email_come, mail, good_afternoon, receiving, ...</td>\n",
              "      <td>email_come mail good_afternoon receiving email...</td>\n",
              "      <td>8</td>\n",
              "    </tr>\n",
              "    <tr>\n",
              "      <th>8433</th>\n",
              "      <td>GRP_0</td>\n",
              "      <td>GRP_0</td>\n",
              "      <td>telephony software issue</td>\n",
              "      <td>3</td>\n",
              "      <td>en</td>\n",
              "      <td>[telephony, software, issue]</td>\n",
              "      <td>[telephony_software, issue]</td>\n",
              "      <td>telephony_software issue</td>\n",
              "      <td>2</td>\n",
              "    </tr>\n",
              "    <tr>\n",
              "      <th>8434</th>\n",
              "      <td>GRP_0</td>\n",
              "      <td>GRP_0</td>\n",
              "      <td>vip window password reset pedxruyf</td>\n",
              "      <td>7</td>\n",
              "      <td>en</td>\n",
              "      <td>[vip, window, password, reset, pedxruyf]</td>\n",
              "      <td>[vip, window_password, reset, pedxruyf]</td>\n",
              "      <td>vip window_password reset pedxruyf</td>\n",
              "      <td>4</td>\n",
              "    </tr>\n",
              "    <tr>\n",
              "      <th>8435</th>\n",
              "      <td>GRP_62</td>\n",
              "      <td>Others</td>\n",
              "      <td>machine unable access machine utility finish d...</td>\n",
              "      <td>20</td>\n",
              "      <td>en</td>\n",
              "      <td>[machine, unable, access, machine, utility, fi...</td>\n",
              "      <td>[machine, unable_access, machine, utility, fin...</td>\n",
              "      <td>machine unable_access machine utility finish d...</td>\n",
              "      <td>9</td>\n",
              "    </tr>\n",
              "    <tr>\n",
              "      <th>8436</th>\n",
              "      <td>GRP_49</td>\n",
              "      <td>Others</td>\n",
              "      <td>several various prgramdntym fold plurality pc ...</td>\n",
              "      <td>20</td>\n",
              "      <td>de</td>\n",
              "      <td>[several, various, prgramdntym, fold, pluralit...</td>\n",
              "      <td>[several, various, prgramdntym_fold, plurality...</td>\n",
              "      <td>several various prgramdntym_fold plurality pc ...</td>\n",
              "      <td>9</td>\n",
              "    </tr>\n",
              "  </tbody>\n",
              "</table>\n",
              "</div>"
            ],
            "text/plain": [
              "     Assignment group  ... phrases_length\n",
              "8432           GRP_29  ...              8\n",
              "8433            GRP_0  ...              2\n",
              "8434            GRP_0  ...              4\n",
              "8435           GRP_62  ...              9\n",
              "8436           GRP_49  ...              9\n",
              "\n",
              "[5 rows x 9 columns]"
            ]
          },
          "metadata": {
            "tags": []
          },
          "execution_count": 237
        }
      ]
    },
    {
      "cell_type": "code",
      "metadata": {
        "id": "SfYdGN-vVMYR"
      },
      "source": [
        ""
      ],
      "execution_count": null,
      "outputs": []
    },
    {
      "cell_type": "code",
      "metadata": {
        "id": "mYaWiYuP4Muo"
      },
      "source": [
        "df1 = df.copy()"
      ],
      "execution_count": null,
      "outputs": []
    },
    {
      "cell_type": "code",
      "metadata": {
        "id": "c0Mwd9zaNoOj"
      },
      "source": [
        "# df1 = df.drop_duplicates(subset = 'Cleaned',keep = 'first')\n",
        "# df1.shape"
      ],
      "execution_count": null,
      "outputs": []
    },
    {
      "cell_type": "code",
      "metadata": {
        "colab": {
          "base_uri": "https://localhost:8080/"
        },
        "id": "gdhb2O4aZnx8",
        "outputId": "3a78dd41-b4bd-451e-d5c9-2815e83b9b8b"
      },
      "source": [
        "df.columns"
      ],
      "execution_count": null,
      "outputs": [
        {
          "output_type": "execute_result",
          "data": {
            "text/plain": [
              "Index(['Assignment group', 'Assignment RE-group', 'Cleaned', 'Length',\n",
              "       'Language', 'Cleaned_tokens', 'phrases', 'Cleaned_phrases',\n",
              "       'phrases_length'],\n",
              "      dtype='object')"
            ]
          },
          "metadata": {
            "tags": []
          },
          "execution_count": 240
        }
      ]
    },
    {
      "cell_type": "code",
      "metadata": {
        "colab": {
          "base_uri": "https://localhost:8080/"
        },
        "id": "IOlfIo_7fQJ5",
        "outputId": "ab319506-f600-4707-9022-0c73c6067a2a"
      },
      "source": [
        "df['Assignment group'].unique()"
      ],
      "execution_count": null,
      "outputs": [
        {
          "output_type": "execute_result",
          "data": {
            "text/plain": [
              "array(['GRP_0', 'GRP_1', 'GRP_3', 'GRP_4', 'GRP_5', 'GRP_6', 'GRP_7',\n",
              "       'GRP_8', 'GRP_9', 'GRP_10', 'GRP_11', 'GRP_12', 'GRP_13', 'GRP_14',\n",
              "       'GRP_15', 'GRP_16', 'GRP_17', 'GRP_18', 'GRP_19', 'GRP_2',\n",
              "       'GRP_20', 'GRP_21', 'GRP_22', 'GRP_23', 'GRP_24', 'GRP_25',\n",
              "       'GRP_26', 'GRP_27', 'GRP_28', 'GRP_29', 'GRP_30', 'GRP_31',\n",
              "       'GRP_33', 'GRP_34', 'GRP_35', 'GRP_36', 'GRP_37', 'GRP_38',\n",
              "       'GRP_39', 'GRP_40', 'GRP_41', 'GRP_42', 'GRP_43', 'GRP_44',\n",
              "       'GRP_45', 'GRP_46', 'GRP_47', 'GRP_49', 'GRP_50', 'GRP_51',\n",
              "       'GRP_52', 'GRP_53', 'GRP_54', 'GRP_55', 'GRP_48', 'GRP_56',\n",
              "       'GRP_57', 'GRP_58', 'GRP_59', 'GRP_60', 'GRP_61', 'GRP_32',\n",
              "       'GRP_62', 'GRP_63', 'GRP_64', 'GRP_65', 'GRP_66', 'GRP_67',\n",
              "       'GRP_68', 'GRP_69', 'GRP_70', 'GRP_71', 'GRP_72', 'GRP_73'],\n",
              "      dtype=object)"
            ]
          },
          "metadata": {
            "tags": []
          },
          "execution_count": 241
        }
      ]
    },
    {
      "cell_type": "code",
      "metadata": {
        "colab": {
          "base_uri": "https://localhost:8080/"
        },
        "id": "jN-ARbq3fTua",
        "outputId": "7c6bc333-9a99-4907-e6e7-85649c5b39cb"
      },
      "source": [
        "df['Assignment RE-group'].unique()"
      ],
      "execution_count": null,
      "outputs": [
        {
          "output_type": "execute_result",
          "data": {
            "text/plain": [
              "array(['GRP_0', 'Others', 'GRP_3', 'GRP_8', 'GRP_9', 'GRP_12', 'GRP_19',\n",
              "       'GRP_2', 'GRP_24'], dtype=object)"
            ]
          },
          "metadata": {
            "tags": []
          },
          "execution_count": 242
        }
      ]
    },
    {
      "cell_type": "code",
      "metadata": {
        "colab": {
          "background_save": true,
          "base_uri": "https://localhost:8080/"
        },
        "id": "funrzCUacDfb",
        "outputId": "df248d1f-6a40-4584-ed5d-9967086cde21"
      },
      "source": [
        "df.shape"
      ],
      "execution_count": null,
      "outputs": [
        {
          "output_type": "execute_result",
          "data": {
            "text/plain": [
              "(8437, 9)"
            ]
          },
          "metadata": {
            "tags": []
          },
          "execution_count": 0
        }
      ]
    },
    {
      "cell_type": "code",
      "metadata": {
        "colab": {
          "base_uri": "https://localhost:8080/"
        },
        "id": "g7YQmxDP0_ub",
        "outputId": "87b6c93c-b59d-46ea-b748-f420580dddf4"
      },
      "source": [
        "df1[df1['Language'] != 'en'].shape"
      ],
      "execution_count": null,
      "outputs": [
        {
          "output_type": "execute_result",
          "data": {
            "text/plain": [
              "(657, 9)"
            ]
          },
          "metadata": {
            "tags": []
          },
          "execution_count": 99
        }
      ]
    },
    {
      "cell_type": "code",
      "metadata": {
        "colab": {
          "base_uri": "https://localhost:8080/"
        },
        "id": "PnlvVB41geeK",
        "outputId": "143abe27-b671-41eb-ce0a-1a766759986e"
      },
      "source": [
        "df1 = df1[df1['Language'] == 'en']\n",
        "df1.shape"
      ],
      "execution_count": null,
      "outputs": [
        {
          "output_type": "execute_result",
          "data": {
            "text/plain": [
              "(7780, 9)"
            ]
          },
          "metadata": {
            "tags": []
          },
          "execution_count": 100
        }
      ]
    },
    {
      "cell_type": "code",
      "metadata": {
        "colab": {
          "base_uri": "https://localhost:8080/"
        },
        "id": "vjErzrkkcgGz",
        "outputId": "6349636c-e71d-457d-bd36-d097ab33b743"
      },
      "source": [
        "df1 = df1[df1['Assignment RE-group'] != 'Others']\n",
        "df1.shape"
      ],
      "execution_count": null,
      "outputs": [
        {
          "output_type": "execute_result",
          "data": {
            "text/plain": [
              "(5015, 9)"
            ]
          },
          "metadata": {
            "tags": []
          },
          "execution_count": 101
        }
      ]
    },
    {
      "cell_type": "code",
      "metadata": {
        "colab": {
          "base_uri": "https://localhost:8080/"
        },
        "id": "YnaCfPFGgJ-A",
        "outputId": "82883347-5aff-43f8-bfa1-32d9dd373bb6"
      },
      "source": [
        "labels_ = df1['Assignment RE-group'].unique()\n",
        "print(labels_)\n",
        "print(df1['Assignment RE-group'].nunique())"
      ],
      "execution_count": null,
      "outputs": [
        {
          "output_type": "stream",
          "text": [
            "['GRP_0' 'GRP_8' 'GRP_9' 'GRP_12' 'GRP_24']\n",
            "5\n"
          ],
          "name": "stdout"
        }
      ]
    },
    {
      "cell_type": "code",
      "metadata": {
        "colab": {
          "base_uri": "https://localhost:8080/"
        },
        "id": "3RsqiGs3wQeU",
        "outputId": "f5e855b4-f58d-4533-d450-af6fa3198086"
      },
      "source": [
        "df1['phrases_length'].describe()"
      ],
      "execution_count": null,
      "outputs": [
        {
          "output_type": "execute_result",
          "data": {
            "text/plain": [
              "count    5015.000000\n",
              "mean        9.774078\n",
              "std        13.869434\n",
              "min         1.000000\n",
              "25%         2.000000\n",
              "50%         5.000000\n",
              "75%        12.000000\n",
              "max       346.000000\n",
              "Name: phrases_length, dtype: float64"
            ]
          },
          "metadata": {
            "tags": []
          },
          "execution_count": 103
        }
      ]
    },
    {
      "cell_type": "code",
      "metadata": {
        "id": "1y2r39qzaafH"
      },
      "source": [
        "from tensorflow.keras.preprocessing.text import Tokenizer\n",
        "from tensorflow.keras.preprocessing.sequence import pad_sequences\n",
        "\n",
        "tokenizer = Tokenizer(num_words = 10000,split = ' ',filters='!\"#$%&()*+,-./:;<=>?@[\\\\]^`{|}~\\t\\n')\n",
        "tokenizer.fit_on_texts(df1['Cleaned_phrases'].values)"
      ],
      "execution_count": null,
      "outputs": []
    },
    {
      "cell_type": "code",
      "metadata": {
        "id": "U8An9SngdZIJ"
      },
      "source": [
        "X = tokenizer.texts_to_sequences(df1['Cleaned_phrases'].values)\n",
        "y = df1['Assignment RE-group']"
      ],
      "execution_count": null,
      "outputs": []
    },
    {
      "cell_type": "code",
      "metadata": {
        "id": "NL5D9AAaggyU"
      },
      "source": [
        "max_len = 20\n",
        "X = pad_sequences(X,maxlen= max_len)"
      ],
      "execution_count": null,
      "outputs": []
    },
    {
      "cell_type": "code",
      "metadata": {
        "id": "lBUtLGbqhXLI"
      },
      "source": [
        "from sklearn.preprocessing import LabelEncoder\n",
        "\n",
        "label_encoder = LabelEncoder()\n",
        "y = label_encoder.fit_transform(y)"
      ],
      "execution_count": null,
      "outputs": []
    },
    {
      "cell_type": "code",
      "metadata": {
        "colab": {
          "base_uri": "https://localhost:8080/"
        },
        "id": "wZJcjYhYsZs0",
        "outputId": "1e2f9780-1408-48a3-a1af-25ebcfac4d19"
      },
      "source": [
        "y"
      ],
      "execution_count": null,
      "outputs": [
        {
          "output_type": "execute_result",
          "data": {
            "text/plain": [
              "array([0, 0, 0, ..., 0, 0, 0])"
            ]
          },
          "metadata": {
            "tags": []
          },
          "execution_count": 108
        }
      ]
    },
    {
      "cell_type": "code",
      "metadata": {
        "id": "JR-AcHeWf4OY"
      },
      "source": [
        "from tensorflow.keras.utils import to_categorical\n",
        "\n",
        "y = to_categorical(y, num_classes = 5)"
      ],
      "execution_count": null,
      "outputs": []
    },
    {
      "cell_type": "code",
      "metadata": {
        "id": "SFXAMjx-g7HW"
      },
      "source": [
        "from sklearn.model_selection import train_test_split\n",
        "\n",
        "x_train,x_test,y_train,y_test = train_test_split(X,y,test_size = 0.2,random_state = 1,stratify = y)"
      ],
      "execution_count": null,
      "outputs": []
    },
    {
      "cell_type": "code",
      "metadata": {
        "colab": {
          "base_uri": "https://localhost:8080/"
        },
        "id": "hmV0KZrvTxfi",
        "outputId": "b5330a2a-f1f1-4166-c310-ea188713f30c"
      },
      "source": [
        "print(x_train.shape,y_test.shape)"
      ],
      "execution_count": null,
      "outputs": [
        {
          "output_type": "stream",
          "text": [
            "(4012, 20) (1003, 5)\n"
          ],
          "name": "stdout"
        }
      ]
    },
    {
      "cell_type": "code",
      "metadata": {
        "colab": {
          "base_uri": "https://localhost:8080/"
        },
        "id": "yoga9-fH98DF",
        "outputId": "23878442-122c-42be-c1b1-5d4a7444c4fb"
      },
      "source": [
        "tokenizer.word_index"
      ],
      "execution_count": null,
      "outputs": [
        {
          "output_type": "execute_result",
          "data": {
            "text/plain": [
              "{'job_scheduler': 1,\n",
              " 'fail_job': 2,\n",
              " 'scheduler_job': 3,\n",
              " 'job_job': 4,\n",
              " 'job_fail': 5,\n",
              " 'password_reset': 6,\n",
              " 'erp_sid': 7,\n",
              " 'outlook': 8,\n",
              " 'issue': 9,\n",
              " 'password': 10,\n",
              " 'backup_circuit': 11,\n",
              " 'user': 12,\n",
              " 'account_lock': 13,\n",
              " 'work': 14,\n",
              " 'access': 15,\n",
              " 'email': 16,\n",
              " 'telecom_vendor': 17,\n",
              " 'erp': 18,\n",
              " 'reset_password': 19,\n",
              " 'engineering_tool': 20,\n",
              " 'company': 21,\n",
              " 'ticket_update': 22,\n",
              " 'unable_login': 23,\n",
              " 'lock': 24,\n",
              " 'type_outage': 25,\n",
              " 'help': 26,\n",
              " 'schedule_maintenance': 27,\n",
              " 'need': 28,\n",
              " 'update': 29,\n",
              " 'skype': 30,\n",
              " 'vpn': 31,\n",
              " 'collaboration_platform': 32,\n",
              " 'get': 33,\n",
              " 'ticket': 34,\n",
              " 'hostname': 35,\n",
              " 'error': 36,\n",
              " 'system': 37,\n",
              " 'name': 38,\n",
              " 'use': 39,\n",
              " 'problem': 40,\n",
              " 'reset': 41,\n",
              " 'request': 42,\n",
              " 'server': 43,\n",
              " 'call': 44,\n",
              " 'time': 45,\n",
              " 'report': 46,\n",
              " 'computer': 47,\n",
              " 'try': 48,\n",
              " 'manager': 49,\n",
              " 'login_issue': 50,\n",
              " 'account': 51,\n",
              " 'open': 52,\n",
              " 'team': 53,\n",
              " 'check': 54,\n",
              " 'file': 55,\n",
              " 'good': 56,\n",
              " 'go': 57,\n",
              " 'inplant': 58,\n",
              " 'printer': 59,\n",
              " 'able_login': 60,\n",
              " 'unable_connect': 61,\n",
              " 'mail': 62,\n",
              " 'job_sid': 63,\n",
              " 'global_telecom': 64,\n",
              " 'message': 65,\n",
              " 'password_management': 66,\n",
              " 'issue_resolve': 67,\n",
              " 'site_contact': 68,\n",
              " 'show': 69,\n",
              " 'add': 70,\n",
              " 'network_company': 71,\n",
              " 'maint_provider': 72,\n",
              " 'maint_ticket': 73,\n",
              " 'site_backup': 74,\n",
              " 'well': 75,\n",
              " 'circuit_backup': 76,\n",
              " 'circuit_active': 77,\n",
              " 'notify_phone': 78,\n",
              " 'tool': 79,\n",
              " 'change_password': 80,\n",
              " 'maintenance_power': 81,\n",
              " 'company_power': 82,\n",
              " 'provider_power': 83,\n",
              " 'crm': 84,\n",
              " 'folder': 85,\n",
              " 'internet_explorer': 86,\n",
              " 'email_remote': 87,\n",
              " 'sid': 88,\n",
              " 'contact': 89,\n",
              " 'usa': 90,\n",
              " 'unable': 91,\n",
              " 'account_unlock': 92,\n",
              " 'window_password': 93,\n",
              " 'vendor_telecom': 94,\n",
              " 'log': 95,\n",
              " 'change': 96,\n",
              " 'language_browser': 97,\n",
              " 'see': 98,\n",
              " 'management_tool': 99,\n",
              " 'site_start': 100,\n",
              " 'microsoft_internet': 101,\n",
              " 'customer_number': 102,\n",
              " 'drive': 103,\n",
              " 'mobile_device': 104,\n",
              " 'window': 105,\n",
              " 'explorer_customer': 106,\n",
              " 'summary': 107,\n",
              " 'login': 108,\n",
              " 'reset_verify': 109,\n",
              " 'site_work': 110,\n",
              " 'vendor_ticket': 111,\n",
              " 'verizon_telecom': 112,\n",
              " 'telephone_summary': 113,\n",
              " 'new': 114,\n",
              " 'office': 115,\n",
              " 'power_specify': 116,\n",
              " 'top_cert': 117,\n",
              " 'gsc_cert': 118,\n",
              " 'start_additional': 119,\n",
              " 'diagnostic': 120,\n",
              " 'network_circuit': 121,\n",
              " 'browser_microsoft': 122,\n",
              " 'site': 123,\n",
              " 'employee': 124,\n",
              " 'vendor_notify': 125,\n",
              " 'network_outage': 126,\n",
              " 'datum': 127,\n",
              " 'number_telephone': 128,\n",
              " 'connect': 129,\n",
              " 'notify_gsc': 130,\n",
              " 'cert_start': 131,\n",
              " 'additional_diagnostic': 132,\n",
              " 'outage_network': 133,\n",
              " 'circuit_power': 134,\n",
              " 'specify_type': 135,\n",
              " 'outage_top': 136,\n",
              " 'cert_site': 137,\n",
              " 'phone': 138,\n",
              " 'pc': 139,\n",
              " 'laptop': 140,\n",
              " 'equipment_reset': 141,\n",
              " 'verify_site': 142,\n",
              " 'work_backup': 143,\n",
              " 'circuit_vendor': 144,\n",
              " 'ticket_global': 145,\n",
              " 'telecom_verizon': 146,\n",
              " 'business_client': 147,\n",
              " 'name_language': 148,\n",
              " 'also': 149,\n",
              " 'd': 150,\n",
              " 'query': 151,\n",
              " 'window_account': 152,\n",
              " 'unable_open': 153,\n",
              " 'system_use': 154,\n",
              " 'click': 155,\n",
              " 'phone_email': 156,\n",
              " 'request_reset': 157,\n",
              " 'caller_confirm': 158,\n",
              " 'page': 159,\n",
              " 'view': 160,\n",
              " 'start': 161,\n",
              " 'india': 162,\n",
              " 'circuit_outage': 163,\n",
              " 'find': 164,\n",
              " 'screen': 165,\n",
              " 'install': 166,\n",
              " 'remote_dial': 167,\n",
              " 'receive': 168,\n",
              " 'link': 169,\n",
              " 'device': 170,\n",
              " 'power_company': 171,\n",
              " 'uacyltoe_hxgaycze': 172,\n",
              " 'power_provider': 173,\n",
              " 'power_schedule': 174,\n",
              " 'maintenance_network': 175,\n",
              " 'active_site': 176,\n",
              " 'contact_notify': 177,\n",
              " 'software': 178,\n",
              " 'company_maint': 179,\n",
              " 'provider_maint': 180,\n",
              " 'ticket_site': 181,\n",
              " 'send': 182,\n",
              " 'unable_log': 183,\n",
              " 'pm': 184,\n",
              " 'error_message': 185,\n",
              " 'unable_access': 186,\n",
              " 'resolve': 187,\n",
              " 'able': 188,\n",
              " 'tool_password': 189,\n",
              " 'job_tool': 190,\n",
              " 'network': 191,\n",
              " 'information': 192,\n",
              " 'run': 193,\n",
              " 'print': 194,\n",
              " 'today': 195,\n",
              " 'available': 196,\n",
              " 'iphone': 197,\n",
              " 'ask': 198,\n",
              " 'provide': 199,\n",
              " 'start_schedule': 200,\n",
              " 'morning': 201,\n",
              " 'excel': 202,\n",
              " 'take': 203,\n",
              " 'follow': 204,\n",
              " 'application': 205,\n",
              " 'say': 206,\n",
              " 'set': 207,\n",
              " 'fail': 208,\n",
              " 'enter': 209,\n",
              " 'instal': 210,\n",
              " 'scheduler': 211,\n",
              " 'unlock': 212,\n",
              " 'require': 213,\n",
              " 'et_type': 214,\n",
              " 'blank_call': 215,\n",
              " 'ad': 216,\n",
              " 'day': 217,\n",
              " 'manager_name': 218,\n",
              " 'support': 219,\n",
              " 'connect_user': 220,\n",
              " 'germany': 221,\n",
              " 'get_error': 222,\n",
              " 'driver': 223,\n",
              " 'want': 224,\n",
              " 'et': 225,\n",
              " 'asa_deny': 226,\n",
              " 'tcp_src': 227,\n",
              " 'dst_outside': 228,\n",
              " 'access_group': 229,\n",
              " 'acl_inside': 230,\n",
              " 'verify_user': 231,\n",
              " 'pm_et': 232,\n",
              " 'dial_na': 233,\n",
              " 'job_bkwin': 234,\n",
              " 'netch_fail': 235,\n",
              " 'still': 236,\n",
              " 'look': 237,\n",
              " 'detail_employee': 238,\n",
              " 'hr_tool': 239,\n",
              " 'dear': 240,\n",
              " 'use_password': 241,\n",
              " 'download': 242,\n",
              " 'vip': 243,\n",
              " 'installation': 244,\n",
              " 'connection': 245,\n",
              " 'advise': 246,\n",
              " 'access_sw': 247,\n",
              " 'new_password': 248,\n",
              " 'attach': 249,\n",
              " 'microsoft_online': 250,\n",
              " 'nwfodmhc_exurcwkm': 251,\n",
              " 'detail': 252,\n",
              " 'let_know': 253,\n",
              " 'company_com': 254,\n",
              " 'advise_user': 255,\n",
              " 'password_change': 256,\n",
              " 'back': 257,\n",
              " 'expense_report': 258,\n",
              " 'reset_erp': 259,\n",
              " 'sale': 260,\n",
              " 'activation': 261,\n",
              " 'server_hostname': 262,\n",
              " 'kind': 263,\n",
              " 'dial_equipment': 264,\n",
              " 'gso': 265,\n",
              " 'give': 266,\n",
              " 'week': 267,\n",
              " 'service_password': 268,\n",
              " 'production': 269,\n",
              " 'attendance_tool': 270,\n",
              " 'erp_production': 271,\n",
              " 'load': 272,\n",
              " 'location': 273,\n",
              " 'save': 274,\n",
              " 'document': 275,\n",
              " 'meeting': 276,\n",
              " 'password_manager': 277,\n",
              " 'sid_system': 278,\n",
              " 'teamviewer': 279,\n",
              " 'hub': 280,\n",
              " 'block': 281,\n",
              " 'working': 282,\n",
              " 'email_address': 283,\n",
              " 'delete': 284,\n",
              " 'upgrade': 285,\n",
              " 'check_user': 286,\n",
              " 'correct': 287,\n",
              " 'assist': 288,\n",
              " 'na_equipment': 289,\n",
              " 'erp_password': 290,\n",
              " 'version': 291,\n",
              " 'arc_fail': 292,\n",
              " 'good_morning': 293,\n",
              " 'error_login': 294,\n",
              " 'site_hard': 295,\n",
              " 'pm_schedule': 296,\n",
              " 'slow': 297,\n",
              " 'ticket_tool': 298,\n",
              " 'pm_nwfodmhc': 299,\n",
              " 'setup_new': 300,\n",
              " 'distributor_tool': 301,\n",
              " 'note': 302,\n",
              " 'come': 303,\n",
              " 'need_access': 304,\n",
              " 'number': 305,\n",
              " 'importance_high': 306,\n",
              " 'dear_sir': 307,\n",
              " 'fix': 308,\n",
              " 'urgent': 309,\n",
              " 'dell': 310,\n",
              " 'wifi': 311,\n",
              " 'sign': 312,\n",
              " 'ws': 313,\n",
              " 'happen': 314,\n",
              " 'do': 315,\n",
              " 'supply_chain': 316,\n",
              " 'restart': 317,\n",
              " 'hana': 318,\n",
              " 'app': 319,\n",
              " 'filesys_fail': 320,\n",
              " 'respond': 321,\n",
              " 'login_check': 322,\n",
              " 'confirm': 323,\n",
              " 'netweaver': 324,\n",
              " 'business': 325,\n",
              " 'calendar': 326,\n",
              " 'unable_launch': 327,\n",
              " 'unlock_account': 328,\n",
              " 'gb': 329,\n",
              " 'job_hostname': 330,\n",
              " 'abende_job': 331,\n",
              " 'company_vpn': 332,\n",
              " 'home': 333,\n",
              " 'setting': 334,\n",
              " 'user_d': 335,\n",
              " 'ess': 336,\n",
              " 'attempt': 337,\n",
              " 'teamviewer_help': 338,\n",
              " 'user_login': 339,\n",
              " 'unable_print': 340,\n",
              " 'service': 341,\n",
              " 'many': 342,\n",
              " 'share': 343,\n",
              " 'ethic': 344,\n",
              " 'customer': 345,\n",
              " 'outlook_issue': 346,\n",
              " 'reboot': 347,\n",
              " 'appear': 348,\n",
              " 'username': 349,\n",
              " 'display': 350,\n",
              " 'bex': 351,\n",
              " 'password_user': 352,\n",
              " 'dmvpn_rtr': 353,\n",
              " 'mobile': 354,\n",
              " 'bobj': 355,\n",
              " 'job': 356,\n",
              " 'help_change': 357,\n",
              " 'password_tool': 358,\n",
              " 'right': 359,\n",
              " 'plant': 360,\n",
              " 'alert': 361,\n",
              " 'telephony_software': 362,\n",
              " 'name_ad': 363,\n",
              " 'try_open': 364,\n",
              " 'regard': 365,\n",
              " 'client': 366,\n",
              " 'keep': 367,\n",
              " 'user_password': 368,\n",
              " 'local': 369,\n",
              " 'know': 370,\n",
              " 'seem': 371,\n",
              " 'hostname_fail': 372,\n",
              " 'yesterday': 373,\n",
              " 'form': 374,\n",
              " 'approve': 375,\n",
              " 'create': 376,\n",
              " 'complete': 377,\n",
              " 'aerp': 378,\n",
              " 'prompt': 379,\n",
              " 'miss': 380,\n",
              " 'engineer_tool': 381,\n",
              " 'monitor': 382,\n",
              " 'fail_fail': 383,\n",
              " 'loading': 384,\n",
              " 'due': 385,\n",
              " 'need_help': 386,\n",
              " 'possible': 387,\n",
              " 'option': 388,\n",
              " 'disconnect': 389,\n",
              " 'configure': 390,\n",
              " 'make': 391,\n",
              " 'analysis': 392,\n",
              " 'unable_load': 393,\n",
              " 'unlocked_account': 394,\n",
              " 'list': 395,\n",
              " 'citrix': 396,\n",
              " 'long': 397,\n",
              " 'com': 398,\n",
              " 'web': 399,\n",
              " 'skype_meeting': 400,\n",
              " 'month': 401,\n",
              " 'hour': 402,\n",
              " 'question': 403,\n",
              " 'portal': 404,\n",
              " 'logon': 405,\n",
              " 'locked': 406,\n",
              " 'user_need': 407,\n",
              " 'approval': 408,\n",
              " 'remove': 409,\n",
              " 'order': 410,\n",
              " 'able_access': 411,\n",
              " 'infopath': 412,\n",
              " 'close': 413,\n",
              " 'reset_user': 414,\n",
              " 'wireless': 415,\n",
              " 'submit': 416,\n",
              " 'machine': 417,\n",
              " 'sale_manager': 418,\n",
              " 'process': 419,\n",
              " 'opening': 420,\n",
              " 'outlook_work': 421,\n",
              " 'company_usa': 422,\n",
              " 'programdnty': 423,\n",
              " 'ms': 424,\n",
              " 'printer_problem': 425,\n",
              " 'inc': 426,\n",
              " 'global': 427,\n",
              " 'power_outage': 428,\n",
              " 'password_expire': 429,\n",
              " 'sync': 430,\n",
              " 'lean_tracker': 431,\n",
              " 'kindly': 432,\n",
              " 'sid_erp': 433,\n",
              " 'space_available': 434,\n",
              " 'screenshot': 435,\n",
              " 'tomorrow': 436,\n",
              " 'drawing': 437,\n",
              " 'old': 438,\n",
              " 'state': 439,\n",
              " 'function': 440,\n",
              " 'move': 441,\n",
              " 'like': 442,\n",
              " 'request_time': 443,\n",
              " 'attachment': 444,\n",
              " 'mii': 445,\n",
              " 'space_consume': 446,\n",
              " 'mr': 447,\n",
              " 'vpn_work': 448,\n",
              " 'password_help': 449,\n",
              " 'allow': 450,\n",
              " 'ess_portal': 451,\n",
              " 'user_reset': 452,\n",
              " 'tab': 453,\n",
              " 'ie': 454,\n",
              " 'job_bkbackup': 455,\n",
              " 'internet': 456,\n",
              " 'currently': 457,\n",
              " 'follow_user': 458,\n",
              " 'department': 459,\n",
              " 'company_inc': 460,\n",
              " 'security': 461,\n",
              " 'i_d': 462,\n",
              " 'log_erp': 463,\n",
              " 'address': 464,\n",
              " 'select': 465,\n",
              " 'assign': 466,\n",
              " 'early': 467,\n",
              " 'daily': 468,\n",
              " 'code': 469,\n",
              " 'able_open': 470,\n",
              " 'refresh': 471,\n",
              " 'group': 472,\n",
              " 'spam': 473,\n",
              " 'log_vpn': 474,\n",
              " 'user_name': 475,\n",
              " 'try_log': 476,\n",
              " 'desktop': 477,\n",
              " 'sound': 478,\n",
              " 'apac': 479,\n",
              " 'even': 480,\n",
              " 'mailbox': 481,\n",
              " 'interface': 482,\n",
              " 'erp_system': 483,\n",
              " 'exurcwkm': 484,\n",
              " 'first_name': 485,\n",
              " 'last_name': 486,\n",
              " 'password_check': 487,\n",
              " 'south_amerirtca': 488,\n",
              " 'user_unable': 489,\n",
              " 'production_order': 490,\n",
              " 'email_cell': 491,\n",
              " 'phone_user': 492,\n",
              " 'full': 493,\n",
              " 'qsejzdzo_abende': 494,\n",
              " 'result': 495,\n",
              " 'product': 496,\n",
              " 'setup': 497,\n",
              " 'search': 498,\n",
              " 'tell': 499,\n",
              " 'lockout': 500,\n",
              " 'remote': 501,\n",
              " 'locate': 502,\n",
              " 'usa_plant': 503,\n",
              " 'project': 504,\n",
              " 'file_hostname': 505,\n",
              " 'interaction_alert': 506,\n",
              " 'backup': 507,\n",
              " 'microsoft': 508,\n",
              " 'impact_award': 509,\n",
              " 'unlocked': 510,\n",
              " 'skype_business': 511,\n",
              " 'see_attach': 512,\n",
              " 'user_i': 513,\n",
              " 'need_change': 514,\n",
              " 'audio': 515,\n",
              " 'unlock_erp': 516,\n",
              " 'ewew': 517,\n",
              " 'connect_vpn': 518,\n",
              " 'ger': 519,\n",
              " 'disk_free': 520,\n",
              " 'inbound_tcp': 521,\n",
              " 'connection_deny': 522,\n",
              " 'flag_syn': 523,\n",
              " 'status': 524,\n",
              " 'platform': 525,\n",
              " 'permission': 526,\n",
              " 'skype_call': 527,\n",
              " 'receive_error': 528,\n",
              " 'already': 529,\n",
              " 'guest': 530,\n",
              " 'repair': 531,\n",
              " 'company_company': 532,\n",
              " 'ic_welcome': 533,\n",
              " 'next_available': 534,\n",
              " 'agent_shortly': 535,\n",
              " 'dwfiykeo_argtxmvcumar': 536,\n",
              " 'organization_request': 537,\n",
              " 'perform_account': 538,\n",
              " 'consider_contact': 539,\n",
              " 'user_validate': 540,\n",
              " 'request_authentic': 541,\n",
              " 'continue_determined': 542,\n",
              " 'valid_request': 543,\n",
              " 'use_service': 544,\n",
              " 'admin_portal': 545,\n",
              " 'office_window': 546,\n",
              " 'intune_window': 547,\n",
              " 'azure_reset': 548,\n",
              " 'want_let': 549,\n",
              " 'enable_password': 550,\n",
              " 'organization_click': 551,\n",
              " 'sincerely_company': 552,\n",
              " 'event': 553,\n",
              " 'read': 554,\n",
              " 'sure': 555,\n",
              " 'unable_get': 556,\n",
              " 'ms_office': 557,\n",
              " 'date': 558,\n",
              " 'tc': 559,\n",
              " 'hear': 560,\n",
              " 'warning_threshold': 561,\n",
              " 'interface_asa': 562,\n",
              " 'average_sample': 563,\n",
              " 'website': 564,\n",
              " 'end': 565,\n",
              " 'unable_sign': 566,\n",
              " 'vendor': 567,\n",
              " 'tablet': 568,\n",
              " 'need_password': 569,\n",
              " 'reason': 570,\n",
              " 'incorrect': 571,\n",
              " 'last': 572,\n",
              " 'release': 573,\n",
              " 'reach': 574,\n",
              " 'needful': 575,\n",
              " 'password_password': 576,\n",
              " 'immediately': 577,\n",
              " 'scan': 578,\n",
              " 'incident': 579,\n",
              " 'anymore': 580,\n",
              " 'agent_website': 581,\n",
              " 'visitor_join': 582,\n",
              " 'inc_message': 583,\n",
              " 'send_unmonitored': 584,\n",
              " 'reply_message': 585,\n",
              " 'value': 586,\n",
              " 'tool_change': 587,\n",
              " 'confirm_able': 588,\n",
              " 'side': 589,\n",
              " 'warm': 590,\n",
              " 'line': 591,\n",
              " 'type': 592,\n",
              " 'mit_freundlichen': 593,\n",
              " 'et_site': 594,\n",
              " 'configuration': 595,\n",
              " 'center': 596,\n",
              " 'skype_audio': 597,\n",
              " 'user_want': 598,\n",
              " 'able_connect': 599,\n",
              " 'get_message': 600,\n",
              " 'etime': 601,\n",
              " 'company_ap': 602,\n",
              " 'manager_unlock': 603,\n",
              " 'accept': 604,\n",
              " 'exchange_activesync': 605,\n",
              " 'crm_add': 606,\n",
              " 'try_access': 607,\n",
              " 'way': 608,\n",
              " 'however': 609,\n",
              " 'language': 610,\n",
              " 'supervisor': 611,\n",
              " 'r': 612,\n",
              " 'enable': 613,\n",
              " 'pdf': 614,\n",
              " 'provide_access': 615,\n",
              " 'account_get': 616,\n",
              " 'hana_sid': 617,\n",
              " 'full_fail': 618,\n",
              " 'engineer': 619,\n",
              " 'g': 620,\n",
              " 'ms_crm': 621,\n",
              " 'person': 622,\n",
              " 'able_log': 623,\n",
              " 'addin': 624,\n",
              " 'review': 625,\n",
              " 'start_pm': 626,\n",
              " 'network_printer': 627,\n",
              " 'connected': 628,\n",
              " 'button': 629,\n",
              " 'user_try': 630,\n",
              " 'tool_pwd': 631,\n",
              " 'fix_issue': 632,\n",
              " 'consume_space': 633,\n",
              " 'mention': 634,\n",
              " 'appreciate': 635,\n",
              " 'let': 636,\n",
              " 'colleague': 637,\n",
              " 'interface_fastethernet': 638,\n",
              " 'bkbackup_tool': 639,\n",
              " 'mobile_phone': 640,\n",
              " 'browser': 641,\n",
              " 'erp_account': 642,\n",
              " 'activate': 643,\n",
              " 'thank': 644,\n",
              " 'forward': 645,\n",
              " 'multiple': 646,\n",
              " 'hostname_volume': 647,\n",
              " 'put': 648,\n",
              " 'inquiry': 649,\n",
              " 'current': 650,\n",
              " 'reinstall': 651,\n",
              " 'image': 652,\n",
              " 'user_sync': 653,\n",
              " 'pssword_company': 654,\n",
              " 'network_caller': 655,\n",
              " 'secondary': 656,\n",
              " 'switch': 657,\n",
              " 'successfully': 658,\n",
              " 'daily_fail': 659,\n",
              " 'disk_agent': 660,\n",
              " 'turn': 661,\n",
              " 'financial': 662,\n",
              " 'issue_summary': 663,\n",
              " 'microsoft_outlook': 664,\n",
              " 'connected_user': 665,\n",
              " 'hoti_fail': 666,\n",
              " 'work_fine': 667,\n",
              " 'senior': 668,\n",
              " 'icon': 669,\n",
              " 'power': 670,\n",
              " 'email_outlook': 671,\n",
              " 'give_error': 672,\n",
              " 'automatically': 673,\n",
              " 'pop': 674,\n",
              " 'next': 675,\n",
              " 'finance_app': 676,\n",
              " 'schedule': 677,\n",
              " 'hostname_average': 678,\n",
              " 'flash_player': 679,\n",
              " 'single_sign': 680,\n",
              " 'help_user': 681,\n",
              " 'unable_view': 682,\n",
              " 'content': 683,\n",
              " 'freeze': 684,\n",
              " 'report_tool': 685,\n",
              " 'install_driver': 686,\n",
              " 'usa_company': 687,\n",
              " 'director': 688,\n",
              " 'box': 689,\n",
              " 'user_able': 690,\n",
              " 'loud_noise': 691,\n",
              " 'grind': 692,\n",
              " 'member': 693,\n",
              " 'agreement': 694,\n",
              " 'synchronize': 695,\n",
              " 'help_login': 696,\n",
              " 'license': 697,\n",
              " 'space': 698,\n",
              " 'keep_get': 699,\n",
              " 'vacation': 700,\n",
              " 'include': 701,\n",
              " 'corporate': 702,\n",
              " 'people': 703,\n",
              " 'russia': 704,\n",
              " 'minute': 705,\n",
              " 'engineering': 706,\n",
              " 'wrong': 707,\n",
              " 'network_drive': 708,\n",
              " 'general': 709,\n",
              " 'volume_label': 710,\n",
              " 'update_password': 711,\n",
              " 'launch': 712,\n",
              " 'vpn_connection': 713,\n",
              " 'erp_logon': 714,\n",
              " 'help_desk': 715,\n",
              " 'printer_name': 716,\n",
              " 'warning': 717,\n",
              " 'team_please': 718,\n",
              " 'skype_issue': 719,\n",
              " 'personal_certificate': 720,\n",
              " 'deployment': 721,\n",
              " 'sid_sid': 722,\n",
              " 'deny_tcp': 723,\n",
              " 'src_dst': 724,\n",
              " 'outside_access': 725,\n",
              " 'group_acl': 726,\n",
              " 'helpdesk': 727,\n",
              " 'agent': 728,\n",
              " 'hello': 729,\n",
              " 'ess_password': 730,\n",
              " 'tool_etime': 731,\n",
              " 'entry': 732,\n",
              " 'pay': 733,\n",
              " 'experience': 734,\n",
              " 'unable_update': 735,\n",
              " 'personal': 736,\n",
              " 'cancel': 737,\n",
              " 'ticket_comment': 738,\n",
              " 'training': 739,\n",
              " 'copy': 740,\n",
              " 'manually': 741,\n",
              " 'balance_error': 742,\n",
              " 'several': 743,\n",
              " 'screen_shot': 744,\n",
              " 'reset_sid': 745,\n",
              " 'continue': 746,\n",
              " 'own': 747,\n",
              " 'personal_device': 748,\n",
              " 'refer': 749,\n",
              " 'communication': 750,\n",
              " 'broadband': 751,\n",
              " 'password_work': 752,\n",
              " 'hcm': 753,\n",
              " 'stop': 754,\n",
              " 'vpn_access': 755,\n",
              " 'please': 756,\n",
              " 'company_center': 757,\n",
              " 'inform': 758,\n",
              " 'folder_access': 759,\n",
              " 'read_write': 760,\n",
              " 'samsung': 761,\n",
              " 'sr': 762,\n",
              " 'job_bk': 763,\n",
              " 'model': 764,\n",
              " 'engineering_toolkuznetsk': 765,\n",
              " 'sale_engineer': 766,\n",
              " 'exchange': 767,\n",
              " 'password_lock': 768,\n",
              " 'medium_agent': 769,\n",
              " 'outlook_opening': 770,\n",
              " 'ad_account': 771,\n",
              " 'userid': 772,\n",
              " 'several_time': 773,\n",
              " 'lock_erp': 774,\n",
              " 'acce': 775,\n",
              " 'database': 776,\n",
              " 'credential': 777,\n",
              " 'see_attachment': 778,\n",
              " 'field': 779,\n",
              " 'agent_fail': 780,\n",
              " 'agent_total': 781,\n",
              " 'think': 782,\n",
              " 'kindly_help': 783,\n",
              " 'tool_netch': 784,\n",
              " 'rakthyesh_ramdntythanjesh': 785,\n",
              " 'fine': 786,\n",
              " 'lhqsm': 787,\n",
              " 'resolve_issue': 788,\n",
              " 'online': 789,\n",
              " 'interface_app': 790,\n",
              " 'get_follow': 791,\n",
              " 'discount': 792,\n",
              " 'net_weaver': 793,\n",
              " 'warehouse_toolmail': 794,\n",
              " 'total_size': 795,\n",
              " 'disable': 796,\n",
              " 'user_call': 797,\n",
              " 'lose': 798,\n",
              " 'impact': 799,\n",
              " 'urgent_help': 800,\n",
              " 'lan': 801,\n",
              " 'amssm': 802,\n",
              " 'relate': 803,\n",
              " 'transfer': 804,\n",
              " 'java': 805,\n",
              " 'inwarehouse_tool': 806,\n",
              " 'different': 807,\n",
              " 'finance': 808,\n",
              " 'chain_software': 809,\n",
              " 'external': 810,\n",
              " 'clear': 811,\n",
              " 'company_own': 812,\n",
              " 'restore': 813,\n",
              " 'source': 814,\n",
              " 'connectivity': 815,\n",
              " 'delay': 816,\n",
              " 'map': 817,\n",
              " 'disk': 818,\n",
              " 'step': 819,\n",
              " 'pull': 820,\n",
              " 'access_hostname': 821,\n",
              " 'microsoft_behalf': 822,\n",
              " 'assistance': 823,\n",
              " 'face_issue': 824,\n",
              " 'exist': 825,\n",
              " 'prod': 826,\n",
              " 'backup_tool': 827,\n",
              " 'primary': 828,\n",
              " 'bk_hana': 829,\n",
              " 'inbox': 830,\n",
              " 'wifi_work': 831,\n",
              " 'error_try': 832,\n",
              " 'outlook_skype': 833,\n",
              " 'transaction': 834,\n",
              " 'en_good': 835,\n",
              " 'dear_team': 836,\n",
              " 'german': 837,\n",
              " 'win': 838,\n",
              " 'computer_name': 839,\n",
              " 'old_password': 840,\n",
              " 'ping': 841,\n",
              " 'analysis_add': 842,\n",
              " 'emp': 843,\n",
              " 'problem_erp': 844,\n",
              " 'video': 845,\n",
              " 'tiyhum_kuyiomar': 846,\n",
              " 'sandop': 847,\n",
              " 'detailed_description': 848,\n",
              " 'critical': 849,\n",
              " 'use_vpn': 850,\n",
              " 'frequent_account': 851,\n",
              " 'excel_word': 852,\n",
              " 'erp_log': 853,\n",
              " 'vpn_company': 854,\n",
              " 'hostname_hostname': 855,\n",
              " 'tess': 856,\n",
              " 'et_backup': 857,\n",
              " 'unable_submit': 858,\n",
              " 'session': 859,\n",
              " 'urgently': 860,\n",
              " 'vpn_issue': 861,\n",
              " 'expire': 862,\n",
              " 'company_network': 863,\n",
              " 'job_zscr': 864,\n",
              " 'software_password': 865,\n",
              " 'hr': 866,\n",
              " 'password_erp': 867,\n",
              " 'skype_work': 868,\n",
              " 'show_error': 869,\n",
              " 'driver_update': 870,\n",
              " 'cause': 871,\n",
              " 'cell_phone': 872,\n",
              " 'quality': 873,\n",
              " 'ind': 874,\n",
              " 'reply': 875,\n",
              " 'outlook_freeze': 876,\n",
              " 'try_use': 877,\n",
              " 'username_password': 878,\n",
              " 'add_user': 879,\n",
              " 'occur': 880,\n",
              " 'i_daypay': 881,\n",
              " 'soon': 882,\n",
              " 'able_see': 883,\n",
              " 'usa_access': 884,\n",
              " 'sr_application': 885,\n",
              " 'create_new': 886,\n",
              " 'activity': 887,\n",
              " 'perform': 888,\n",
              " 'erp_slow': 889,\n",
              " 'hotf_fail': 890,\n",
              " 'good_day': 891,\n",
              " 'help_unlock': 892,\n",
              " 'offline': 893,\n",
              " 'unlock_password': 894,\n",
              " 'open_outlook': 895,\n",
              " 'user_get': 896,\n",
              " 'd_password': 897,\n",
              " 'circuit_type': 898,\n",
              " 'secure': 899,\n",
              " 'lauacyltoe_hxgaycze': 900,\n",
              " 'archive_tool': 901,\n",
              " 'headset': 902,\n",
              " 'vpn_circuit': 903,\n",
              " 'epmsystem_service': 904,\n",
              " 'free': 905,\n",
              " 'crm_outlook': 906,\n",
              " 'm': 907,\n",
              " 'complete_require': 908,\n",
              " 'question_return': 909,\n",
              " 'back_gsc': 910,\n",
              " 'requester_provide': 911,\n",
              " 'require_information': 912,\n",
              " 'make_model': 913,\n",
              " 'type_document': 914,\n",
              " 'issue_erp': 915,\n",
              " 'send_email': 916,\n",
              " 'dthyan_matheywtyuew': 917,\n",
              " 'mit': 918,\n",
              " 'new_laptop': 919,\n",
              " 'thing': 920,\n",
              " 'performance': 921,\n",
              " 'technical': 922,\n",
              " 'utilize': 923,\n",
              " 'travel': 924,\n",
              " 'scanner': 925,\n",
              " 'stop_work': 926,\n",
              " 'policy': 927,\n",
              " 'kurtyar': 928,\n",
              " 'printer_driver': 929,\n",
              " 'description': 930,\n",
              " 'total': 931,\n",
              " 'sample_disk': 932,\n",
              " 'account_information': 933,\n",
              " 'scheduler_sid': 934,\n",
              " 'hello_team': 935,\n",
              " 'chat': 936,\n",
              " 'phone_number': 937,\n",
              " 'net': 938,\n",
              " 'apac_company': 939,\n",
              " 'inc_ticket': 940,\n",
              " 'benefit': 941,\n",
              " 'receive_message': 942,\n",
              " 'gigabitethernet': 943,\n",
              " 'inc_fail': 944,\n",
              " 'last_week': 945,\n",
              " 'vpn_rtr': 946,\n",
              " 'place': 947,\n",
              " 'area': 948,\n",
              " 'quarantine': 949,\n",
              " 'clock': 950,\n",
              " 'company_email': 951,\n",
              " 'outlook_crm': 952,\n",
              " 'consume': 953,\n",
              " 'carrier': 954,\n",
              " 'gsc': 955,\n",
              " 'locate_usa': 956,\n",
              " 'sid_password': 957,\n",
              " 'access_erp': 958,\n",
              " 'sorry': 959,\n",
              " 'give_access': 960,\n",
              " 'erp_business': 961,\n",
              " 'investigate': 962,\n",
              " 'user_account': 963,\n",
              " 'file_server': 964,\n",
              " 'operation': 965,\n",
              " 'printing': 966,\n",
              " 'crash': 967,\n",
              " 'erp_login': 968,\n",
              " 'tool_ticket': 969,\n",
              " 'info': 970,\n",
              " 'access_company': 971,\n",
              " 'previous': 972,\n",
              " 'matheywter': 973,\n",
              " 'share_mailbox': 974,\n",
              " 'site_primary': 975,\n",
              " 'dev': 976,\n",
              " 'attached': 977,\n",
              " 'admin': 978,\n",
              " 'limit': 979,\n",
              " 'failure': 980,\n",
              " 'mii_system': 981,\n",
              " 'window_disk': 982,\n",
              " 'space_utilization': 983,\n",
              " 'properly': 984,\n",
              " 'notification': 985,\n",
              " 'owa': 986,\n",
              " 'sys': 987,\n",
              " 'outlook_launch': 988,\n",
              " 'vogelfontein': 989,\n",
              " 'sign_skype': 990,\n",
              " 'volume': 991,\n",
              " 'emea': 992,\n",
              " 'owner': 993,\n",
              " 'dear_help': 994,\n",
              " 'exurcwkm_tiyhum': 995,\n",
              " 'kuyiomar': 996,\n",
              " 'hostname_oracle': 997,\n",
              " 'financial_management': 998,\n",
              " 'task': 999,\n",
              " 'return': 1000,\n",
              " ...}"
            ]
          },
          "metadata": {
            "tags": []
          },
          "execution_count": 112
        }
      ]
    },
    {
      "cell_type": "code",
      "metadata": {
        "colab": {
          "base_uri": "https://localhost:8080/"
        },
        "id": "s_GC9PiZi14S",
        "outputId": "6b658eb5-844d-4b46-ad06-3936ce066204"
      },
      "source": [
        "vocab_len = len(tokenizer.word_index)+1\n",
        "print(vocab_len)\n",
        "embedding_size = 80"
      ],
      "execution_count": null,
      "outputs": [
        {
          "output_type": "stream",
          "text": [
            "7495\n"
          ],
          "name": "stdout"
        }
      ]
    },
    {
      "cell_type": "code",
      "metadata": {
        "colab": {
          "base_uri": "https://localhost:8080/"
        },
        "id": "xz5hO64q7oaf",
        "outputId": "b022d1c4-5963-4d92-cd05-4f22992cd02e"
      },
      "source": [
        "embedding_dict = {}\n",
        "for word in words:\n",
        "  x = word\n",
        "  vector = np.asarray(vec_model[x],dtype='float32')\n",
        "  embedding_dict[x] = vector\n",
        "\n",
        "# create a weight matrix for words in training docs\n",
        "embedding_matrix = np.zeros((vocab_len,embedding_size))\n",
        "\n",
        "for word,i in tokenizer.word_index.items():\n",
        "  embedding_vector = embedding_dict.get(word)\n",
        "  if embedding_vector is not None:\n",
        "    embedding_matrix[i] = embedding_vector"
      ],
      "execution_count": null,
      "outputs": [
        {
          "output_type": "stream",
          "text": [
            "/usr/local/lib/python3.7/dist-packages/ipykernel_launcher.py:4: DeprecationWarning: Call to deprecated `__getitem__` (Method will be removed in 4.0.0, use self.wv.__getitem__() instead).\n",
            "  after removing the cwd from sys.path.\n"
          ],
          "name": "stderr"
        }
      ]
    },
    {
      "cell_type": "code",
      "metadata": {
        "colab": {
          "base_uri": "https://localhost:8080/"
        },
        "id": "50_6qHmvkAtL",
        "outputId": "7f97e3df-059a-4fdd-c10f-c34d28c3a7ff"
      },
      "source": [
        "embedding_matrix.shape"
      ],
      "execution_count": null,
      "outputs": [
        {
          "output_type": "execute_result",
          "data": {
            "text/plain": [
              "(7495, 80)"
            ]
          },
          "metadata": {
            "tags": []
          },
          "execution_count": 116
        }
      ]
    },
    {
      "cell_type": "code",
      "metadata": {
        "colab": {
          "base_uri": "https://localhost:8080/"
        },
        "id": "B9NUvioRCMUg",
        "outputId": "45d762eb-e718-468c-c334-d3a157fcfd33"
      },
      "source": [
        "print(x_train.shape,y_train.shape)"
      ],
      "execution_count": null,
      "outputs": [
        {
          "output_type": "stream",
          "text": [
            "(4012, 20) (4012, 5)\n"
          ],
          "name": "stdout"
        }
      ]
    },
    {
      "cell_type": "code",
      "metadata": {
        "id": "DYnhAP9YG3zd"
      },
      "source": [
        "y_train_labels = np.argmax(y_train,axis=1)"
      ],
      "execution_count": null,
      "outputs": []
    },
    {
      "cell_type": "code",
      "metadata": {
        "colab": {
          "base_uri": "https://localhost:8080/"
        },
        "id": "lhYdNbe_J8Kh",
        "outputId": "e92d38af-8c84-42ce-82e7-ba67b63a84b9"
      },
      "source": [
        "np.unique(y_train_labels)"
      ],
      "execution_count": null,
      "outputs": [
        {
          "output_type": "execute_result",
          "data": {
            "text/plain": [
              "array([0, 1, 2, 3, 4])"
            ]
          },
          "metadata": {
            "tags": []
          },
          "execution_count": 119
        }
      ]
    },
    {
      "cell_type": "code",
      "metadata": {
        "id": "jyY0gM3MEjlX"
      },
      "source": [
        "from sklearn.utils import class_weight\n",
        "cw = class_weight.compute_class_weight('balanced',classes = np.unique(y_train_labels),y = y_train_labels)"
      ],
      "execution_count": null,
      "outputs": []
    },
    {
      "cell_type": "code",
      "metadata": {
        "colab": {
          "base_uri": "https://localhost:8080/"
        },
        "id": "_lrU-ZkWL8o8",
        "outputId": "6fde19e5-3a19-4dc4-df64-11e0d485c58e"
      },
      "source": [
        "cw"
      ],
      "execution_count": null,
      "outputs": [
        {
          "output_type": "execute_result",
          "data": {
            "text/plain": [
              "array([ 0.26068876,  4.38469945, 11.30140845,  1.59522863,  4.53333333])"
            ]
          },
          "metadata": {
            "tags": []
          },
          "execution_count": 121
        }
      ]
    },
    {
      "cell_type": "code",
      "metadata": {
        "id": "TwfLAkUx1BXA"
      },
      "source": [
        "weights = {}\n",
        "for i in range(5):\n",
        "  weights[i] = cw[i]"
      ],
      "execution_count": null,
      "outputs": []
    },
    {
      "cell_type": "code",
      "metadata": {
        "id": "VE-LjDsxrOoV"
      },
      "source": [
        "weights[4] = 3.0"
      ],
      "execution_count": null,
      "outputs": []
    },
    {
      "cell_type": "code",
      "metadata": {
        "colab": {
          "base_uri": "https://localhost:8080/"
        },
        "id": "lDvrZCfjrVuU",
        "outputId": "eb8849b9-486b-4cfb-ff60-2d758fe9a4a4"
      },
      "source": [
        "weights"
      ],
      "execution_count": null,
      "outputs": [
        {
          "output_type": "execute_result",
          "data": {
            "text/plain": [
              "{0: 0.260688758934373,\n",
              " 1: 4.384699453551913,\n",
              " 2: 11.301408450704225,\n",
              " 3: 1.5952286282306163,\n",
              " 4: 3.0}"
            ]
          },
          "metadata": {
            "tags": []
          },
          "execution_count": 197
        }
      ]
    },
    {
      "cell_type": "code",
      "metadata": {
        "id": "uPcja_xsjFPq"
      },
      "source": [
        "from tensorflow.keras.layers import LSTM,Embedding,Dense,Dropout,Flatten,Bidirectional,GRU\n",
        "from tensorflow.keras.models import Sequential\n",
        "from tensorflow.keras import optimizers"
      ],
      "execution_count": null,
      "outputs": []
    },
    {
      "cell_type": "code",
      "metadata": {
        "colab": {
          "base_uri": "https://localhost:8080/"
        },
        "id": "fKRdBCR7jSSM",
        "outputId": "30d07240-9add-4bf5-e229-d4fcd1f14491"
      },
      "source": [
        "model = Sequential()\n",
        "model.add(Embedding(input_dim = vocab_len,output_dim = embedding_size,input_length = max_len, weights = [embedding_matrix], trainable = False))\n",
        "model.add(Bidirectional(LSTM(50)))\n",
        "model.add(Flatten())\n",
        "model.add(Dense(128,activation='relu'))\n",
        "model.add(Dropout(0.3))\n",
        "model.add(Dense(64,activation='relu'))\n",
        "model.add(Dense(5,activation='softmax'))\n",
        "model.summary()"
      ],
      "execution_count": null,
      "outputs": [
        {
          "output_type": "stream",
          "text": [
            "Model: \"sequential_6\"\n",
            "_________________________________________________________________\n",
            "Layer (type)                 Output Shape              Param #   \n",
            "=================================================================\n",
            "embedding_6 (Embedding)      (None, 20, 80)            599600    \n",
            "_________________________________________________________________\n",
            "bidirectional_6 (Bidirection (None, 100)               52400     \n",
            "_________________________________________________________________\n",
            "flatten_6 (Flatten)          (None, 100)               0         \n",
            "_________________________________________________________________\n",
            "dense_18 (Dense)             (None, 128)               12928     \n",
            "_________________________________________________________________\n",
            "dropout_6 (Dropout)          (None, 128)               0         \n",
            "_________________________________________________________________\n",
            "dense_19 (Dense)             (None, 64)                8256      \n",
            "_________________________________________________________________\n",
            "dense_20 (Dense)             (None, 5)                 325       \n",
            "=================================================================\n",
            "Total params: 673,509\n",
            "Trainable params: 73,909\n",
            "Non-trainable params: 599,600\n",
            "_________________________________________________________________\n"
          ],
          "name": "stdout"
        }
      ]
    },
    {
      "cell_type": "code",
      "metadata": {
        "id": "0Zd1EOYbok1p"
      },
      "source": [
        "from sklearn.metrics import precision_score,recall_score"
      ],
      "execution_count": null,
      "outputs": []
    },
    {
      "cell_type": "code",
      "metadata": {
        "id": "D9z0mhp5kZpM"
      },
      "source": [
        "sgd = optimizers.SGD(learning_rate=0.001,momentum=0.9)\n",
        "adam = optimizers.Adam()\n",
        "\n",
        "model.compile(loss = 'categorical_crossentropy', optimizer = adam, metrics= ['accuracy'])"
      ],
      "execution_count": null,
      "outputs": []
    },
    {
      "cell_type": "code",
      "metadata": {
        "id": "tIjMTjOq5k9R"
      },
      "source": [
        "# from tensorflow.keras.callbacks import ReduceLROnPlateau,EarlyStopping\n",
        "\n",
        "# early_stop = EarlyStopping(monitor='val_loss',patience=3)\n",
        "# reduc = ReduceLROnPlateau(monitor='val_loss',patience=4,factor=0.5)"
      ],
      "execution_count": null,
      "outputs": []
    },
    {
      "cell_type": "code",
      "metadata": {
        "colab": {
          "base_uri": "https://localhost:8080/"
        },
        "id": "NNrgSMAckvub",
        "outputId": "82b8364c-142e-4aa2-a6c6-eb87ea5f9287"
      },
      "source": [
        "model.fit(x_train,y_train,epochs=30,batch_size=16,validation_data=(x_test,y_test),class_weight=weights)"
      ],
      "execution_count": null,
      "outputs": [
        {
          "output_type": "stream",
          "text": [
            "Epoch 1/30\n",
            "251/251 [==============================] - 10s 21ms/step - loss: 0.9466 - accuracy: 0.6032 - val_loss: 0.3154 - val_accuracy: 0.8714\n",
            "Epoch 2/30\n",
            "251/251 [==============================] - 4s 17ms/step - loss: 0.3802 - accuracy: 0.8650 - val_loss: 0.4215 - val_accuracy: 0.8604\n",
            "Epoch 3/30\n",
            "251/251 [==============================] - 4s 17ms/step - loss: 0.3246 - accuracy: 0.8937 - val_loss: 0.3436 - val_accuracy: 0.8564\n",
            "Epoch 4/30\n",
            "251/251 [==============================] - 4s 17ms/step - loss: 0.2923 - accuracy: 0.8953 - val_loss: 0.4780 - val_accuracy: 0.8415\n",
            "Epoch 5/30\n",
            "251/251 [==============================] - 4s 17ms/step - loss: 0.2183 - accuracy: 0.9081 - val_loss: 0.3005 - val_accuracy: 0.8814\n",
            "Epoch 6/30\n",
            "251/251 [==============================] - 4s 17ms/step - loss: 0.2102 - accuracy: 0.9272 - val_loss: 0.4849 - val_accuracy: 0.8544\n",
            "Epoch 7/30\n",
            "251/251 [==============================] - 4s 17ms/step - loss: 0.2072 - accuracy: 0.9260 - val_loss: 0.2866 - val_accuracy: 0.8953\n",
            "Epoch 8/30\n",
            "251/251 [==============================] - 4s 17ms/step - loss: 0.1740 - accuracy: 0.9410 - val_loss: 0.2866 - val_accuracy: 0.8933\n",
            "Epoch 9/30\n",
            "251/251 [==============================] - 4s 17ms/step - loss: 0.1629 - accuracy: 0.9481 - val_loss: 0.4196 - val_accuracy: 0.8704\n",
            "Epoch 10/30\n",
            "251/251 [==============================] - 4s 18ms/step - loss: 0.1629 - accuracy: 0.9444 - val_loss: 0.3120 - val_accuracy: 0.8963\n",
            "Epoch 11/30\n",
            "251/251 [==============================] - 5s 18ms/step - loss: 0.1634 - accuracy: 0.9497 - val_loss: 0.3654 - val_accuracy: 0.8963\n",
            "Epoch 12/30\n",
            "251/251 [==============================] - 4s 17ms/step - loss: 0.1674 - accuracy: 0.9527 - val_loss: 0.3644 - val_accuracy: 0.8873\n",
            "Epoch 13/30\n",
            "251/251 [==============================] - 4s 18ms/step - loss: 0.2101 - accuracy: 0.9245 - val_loss: 0.3215 - val_accuracy: 0.8983\n",
            "Epoch 14/30\n",
            "251/251 [==============================] - 4s 17ms/step - loss: 0.1678 - accuracy: 0.9440 - val_loss: 0.3156 - val_accuracy: 0.9073\n",
            "Epoch 15/30\n",
            "251/251 [==============================] - 4s 17ms/step - loss: 0.1754 - accuracy: 0.9391 - val_loss: 0.3156 - val_accuracy: 0.8973\n",
            "Epoch 16/30\n",
            "251/251 [==============================] - 4s 17ms/step - loss: 0.1292 - accuracy: 0.9536 - val_loss: 0.3473 - val_accuracy: 0.8923\n",
            "Epoch 17/30\n",
            "251/251 [==============================] - 4s 17ms/step - loss: 0.1396 - accuracy: 0.9484 - val_loss: 0.4007 - val_accuracy: 0.8973\n",
            "Epoch 18/30\n",
            "251/251 [==============================] - 4s 18ms/step - loss: 0.1426 - accuracy: 0.9508 - val_loss: 0.4271 - val_accuracy: 0.8993\n",
            "Epoch 19/30\n",
            "251/251 [==============================] - 4s 17ms/step - loss: 0.1384 - accuracy: 0.9587 - val_loss: 0.4378 - val_accuracy: 0.8883\n",
            "Epoch 20/30\n",
            "251/251 [==============================] - 4s 17ms/step - loss: 0.1361 - accuracy: 0.9542 - val_loss: 0.4260 - val_accuracy: 0.8983\n",
            "Epoch 21/30\n",
            "251/251 [==============================] - 4s 17ms/step - loss: 0.1389 - accuracy: 0.9582 - val_loss: 0.4500 - val_accuracy: 0.8923\n",
            "Epoch 22/30\n",
            "251/251 [==============================] - 4s 17ms/step - loss: 0.1356 - accuracy: 0.9592 - val_loss: 0.4486 - val_accuracy: 0.9023\n",
            "Epoch 23/30\n",
            "251/251 [==============================] - 4s 17ms/step - loss: 0.1832 - accuracy: 0.9479 - val_loss: 0.4752 - val_accuracy: 0.8983\n",
            "Epoch 24/30\n",
            "251/251 [==============================] - 4s 17ms/step - loss: 0.1378 - accuracy: 0.9516 - val_loss: 0.4363 - val_accuracy: 0.8983\n",
            "Epoch 25/30\n",
            "251/251 [==============================] - 4s 17ms/step - loss: 0.1310 - accuracy: 0.9573 - val_loss: 0.4228 - val_accuracy: 0.8963\n",
            "Epoch 26/30\n",
            "251/251 [==============================] - 4s 17ms/step - loss: 0.1344 - accuracy: 0.9559 - val_loss: 0.4843 - val_accuracy: 0.9043\n",
            "Epoch 27/30\n",
            "251/251 [==============================] - 4s 17ms/step - loss: 0.1291 - accuracy: 0.9618 - val_loss: 0.4480 - val_accuracy: 0.9192\n",
            "Epoch 28/30\n",
            "251/251 [==============================] - 4s 17ms/step - loss: 0.1472 - accuracy: 0.9626 - val_loss: 0.4538 - val_accuracy: 0.8993\n",
            "Epoch 29/30\n",
            "251/251 [==============================] - 4s 17ms/step - loss: 0.1342 - accuracy: 0.9610 - val_loss: 0.4519 - val_accuracy: 0.8993\n",
            "Epoch 30/30\n",
            "251/251 [==============================] - 4s 17ms/step - loss: 0.1224 - accuracy: 0.9635 - val_loss: 0.4790 - val_accuracy: 0.9003\n"
          ],
          "name": "stdout"
        },
        {
          "output_type": "execute_result",
          "data": {
            "text/plain": [
              "<tensorflow.python.keras.callbacks.History at 0x7f7da626ad90>"
            ]
          },
          "metadata": {
            "tags": []
          },
          "execution_count": 204
        }
      ]
    },
    {
      "cell_type": "code",
      "metadata": {
        "colab": {
          "base_uri": "https://localhost:8080/"
        },
        "id": "wASjPWFifwm1",
        "outputId": "c1580597-9de4-483e-c60b-0c4f247b8f9d"
      },
      "source": [
        "model.evaluate(x_test,y_test)"
      ],
      "execution_count": null,
      "outputs": [
        {
          "output_type": "stream",
          "text": [
            "32/32 [==============================] - 0s 6ms/step - loss: 0.4790 - accuracy: 0.9003\n"
          ],
          "name": "stdout"
        },
        {
          "output_type": "execute_result",
          "data": {
            "text/plain": [
              "[0.47896265983581543, 0.9002991318702698]"
            ]
          },
          "metadata": {
            "tags": []
          },
          "execution_count": 205
        }
      ]
    },
    {
      "cell_type": "code",
      "metadata": {
        "id": "WoC63PPfk9UB"
      },
      "source": [
        " from sklearn.metrics import confusion_matrix"
      ],
      "execution_count": null,
      "outputs": []
    },
    {
      "cell_type": "code",
      "metadata": {
        "id": "oaAvASiojITD"
      },
      "source": [
        "predicted_labels = model.predict(x_test)"
      ],
      "execution_count": null,
      "outputs": []
    },
    {
      "cell_type": "code",
      "metadata": {
        "id": "-YvA5iU0jrU5"
      },
      "source": [
        "y_pred = np.where(predicted_labels>0.5,1,0)"
      ],
      "execution_count": null,
      "outputs": []
    },
    {
      "cell_type": "code",
      "metadata": {
        "colab": {
          "base_uri": "https://localhost:8080/"
        },
        "id": "87iPodw8kfq-",
        "outputId": "32a1bb6d-e683-40a5-aff0-bc229efdf32a"
      },
      "source": [
        "y_test[0]"
      ],
      "execution_count": null,
      "outputs": [
        {
          "output_type": "execute_result",
          "data": {
            "text/plain": [
              "array([0., 0., 0., 1., 0.], dtype=float32)"
            ]
          },
          "metadata": {
            "tags": []
          },
          "execution_count": 190
        }
      ]
    },
    {
      "cell_type": "code",
      "metadata": {
        "colab": {
          "base_uri": "https://localhost:8080/"
        },
        "id": "1cTPWFj_mddp",
        "outputId": "cef7f31f-3d42-48e4-a912-30687b2812f0"
      },
      "source": [
        "y_pred[0]"
      ],
      "execution_count": null,
      "outputs": [
        {
          "output_type": "execute_result",
          "data": {
            "text/plain": [
              "array([0, 0, 0, 1, 0])"
            ]
          },
          "metadata": {
            "tags": []
          },
          "execution_count": 191
        }
      ]
    },
    {
      "cell_type": "code",
      "metadata": {
        "id": "ASde8vzxjIN7"
      },
      "source": [
        "cm = confusion_matrix(y_test.argmax(axis=1),y_pred.argmax(axis=1))"
      ],
      "execution_count": null,
      "outputs": []
    },
    {
      "cell_type": "code",
      "metadata": {
        "colab": {
          "base_uri": "https://localhost:8080/",
          "height": 501
        },
        "id": "Xgbazb7tjILH",
        "outputId": "95df9c90-74af-4c29-e1c4-5f08534b4452"
      },
      "source": [
        "plt.figure(figsize=(8,8))\n",
        "sns.heatmap(cm,annot=True,xticklabels=labels_,yticklabels=labels_,fmt='.4g',cmap='gist_earth')"
      ],
      "execution_count": null,
      "outputs": [
        {
          "output_type": "execute_result",
          "data": {
            "text/plain": [
              "<matplotlib.axes._subplots.AxesSubplot at 0x7f7da8ec5fd0>"
            ]
          },
          "metadata": {
            "tags": []
          },
          "execution_count": 193
        },
        {
          "output_type": "display_data",
          "data": {
            "image/png": "[encoded data removed]",
            "text/plain": [
              "<Figure size 576x576 with 2 Axes>"
            ]
          },
          "metadata": {
            "tags": []
          }
        }
      ]
    },
    {
      "cell_type": "code",
      "metadata": {
        "colab": {
          "base_uri": "https://localhost:8080/"
        },
        "id": "5BKQkW4vr1U2",
        "outputId": "486877fa-806d-4a8c-b4a8-4fa69d9729cf"
      },
      "source": [
        "df1['Assignment RE-group'].value_counts()"
      ],
      "execution_count": null,
      "outputs": [
        {
          "output_type": "execute_result",
          "data": {
            "text/plain": [
              "GRP_0     3847\n",
              "GRP_8      629\n",
              "GRP_12     229\n",
              "GRP_9      221\n",
              "GRP_24      89\n",
              "Name: Assignment RE-group, dtype: int64"
            ]
          },
          "metadata": {
            "tags": []
          },
          "execution_count": 194
        }
      ]
    },
    {
      "cell_type": "code",
      "metadata": {
        "colab": {
          "base_uri": "https://localhost:8080/"
        },
        "id": "gILSOawGs4DT",
        "outputId": "ee6cb18d-e3a4-4df4-f853-4a834f02ac7f"
      },
      "source": [
        "count = 0\n",
        "for i in range(y_test.shape[0]):\n",
        "  if y_train[i][0] == 1.0:\n",
        "    count +=1\n",
        "print(count)"
      ],
      "execution_count": null,
      "outputs": [
        {
          "output_type": "stream",
          "text": [
            "763\n"
          ],
          "name": "stdout"
        }
      ]
    },
    {
      "cell_type": "code",
      "metadata": {
        "id": "tL74RhpGwrY4"
      },
      "source": [
        ""
      ],
      "execution_count": null,
      "outputs": []
    },
    {
      "cell_type": "markdown",
      "metadata": {
        "id": "0W1xtbvzdYkb"
      },
      "source": [
        "# "
      ]
    },
    {
      "cell_type": "code",
      "metadata": {
        "id": "AMkIZg_ADCqA"
      },
      "source": [
        ""
      ],
      "execution_count": null,
      "outputs": []
    },
    {
      "cell_type": "code",
      "metadata": {
        "id": "o3LRC3TvD46S"
      },
      "source": [
        ""
      ],
      "execution_count": null,
      "outputs": []
    },
    {
      "cell_type": "code",
      "metadata": {
        "id": "WB2gcMtlD5Ba"
      },
      "source": [
        ""
      ],
      "execution_count": null,
      "outputs": []
    }
  ]
}